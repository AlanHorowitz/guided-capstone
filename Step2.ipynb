{
 "cells": [
  {
   "cell_type": "code",
   "execution_count": 13,
   "id": "e95612a9",
   "metadata": {},
   "outputs": [],
   "source": [
    "from pyspark.sql import SparkSession\n",
    "from pyspark.sql.types import StructType, StructField\n",
    "import pyspark.sql.types as T\n",
    "import pyspark.sql.functions as F"
   ]
  },
  {
   "cell_type": "code",
   "execution_count": 2,
   "id": "51e07207",
   "metadata": {},
   "outputs": [],
   "source": [
    "spark = SparkSession.builder.master('local').appName('app').getOrCreate()"
   ]
  },
  {
   "cell_type": "code",
   "execution_count": 3,
   "id": "dc330bb8",
   "metadata": {},
   "outputs": [],
   "source": [
    "sc = spark.sparkContext"
   ]
  },
  {
   "cell_type": "code",
   "execution_count": 4,
   "id": "ec2ac4f5",
   "metadata": {},
   "outputs": [],
   "source": [
    "raw = sc.textFile(\"file:///home/alan/spark/guided-capstone/part-00000-092ec1db-39ab-4079-9580-f7c7b516a283-c000.txt\")"
   ]
  },
  {
   "cell_type": "code",
   "execution_count": 7,
   "id": "097e235f",
   "metadata": {},
   "outputs": [],
   "source": [
    "parsed = raw.map(lambda line: parse_json(line)) "
   ]
  },
  {
   "cell_type": "code",
   "execution_count": 13,
   "id": "ecfc6a60",
   "metadata": {},
   "outputs": [
    {
     "data": {
      "text/plain": [
       "[['2020-08-06',\n",
       "  'Q',\n",
       "  'SYMA',\n",
       "  'NASDAQ',\n",
       "  '2020-08-06 09:38:08.093',\n",
       "  1,\n",
       "  '2020-08-06 09:30:00.000',\n",
       "  '',\n",
       "  78.13370587077013,\n",
       "  100,\n",
       "  79.8251633824899,\n",
       "  100,\n",
       "  'Q'],\n",
       " ['2020-08-06',\n",
       "  'Q',\n",
       "  'SYMA',\n",
       "  'NASDAQ',\n",
       "  '2020-08-06 09:46:05.163',\n",
       "  2,\n",
       "  '2020-08-06 09:30:00.000',\n",
       "  '',\n",
       "  76.52304470696788,\n",
       "  100,\n",
       "  76.57240785476783,\n",
       "  100,\n",
       "  'Q'],\n",
       " ['2020-08-06',\n",
       "  'Q',\n",
       "  'SYMA',\n",
       "  'NASDAQ',\n",
       "  '2020-08-06 09:52:14.798',\n",
       "  3,\n",
       "  '2020-08-06 09:30:00.000',\n",
       "  '',\n",
       "  78.74535582037817,\n",
       "  100,\n",
       "  79.09279949812425,\n",
       "  100,\n",
       "  'Q'],\n",
       " ['2020-08-06',\n",
       "  'Q',\n",
       "  'SYMA',\n",
       "  'NASDAQ',\n",
       "  '2020-08-06 09:58:51.806',\n",
       "  4,\n",
       "  '2020-08-06 09:30:00.000',\n",
       "  '',\n",
       "  75.61362753973539,\n",
       "  100,\n",
       "  76.94977735069746,\n",
       "  100,\n",
       "  'Q'],\n",
       " ['2020-08-06',\n",
       "  'Q',\n",
       "  'SYMA',\n",
       "  'NASDAQ',\n",
       "  '2020-08-06 10:07:40.796',\n",
       "  5,\n",
       "  '2020-08-06 09:30:00.000',\n",
       "  '',\n",
       "  77.45084535147971,\n",
       "  100,\n",
       "  78.72533317224415,\n",
       "  100,\n",
       "  'Q'],\n",
       " ['2020-08-06',\n",
       "  'Q',\n",
       "  'SYMA',\n",
       "  'NASDAQ',\n",
       "  '2020-08-06 10:15:34.939',\n",
       "  6,\n",
       "  '2020-08-06 09:30:00.000',\n",
       "  '',\n",
       "  79.29842150722847,\n",
       "  100,\n",
       "  81.07191719039838,\n",
       "  100,\n",
       "  'Q'],\n",
       " ['2020-08-06',\n",
       "  'Q',\n",
       "  'SYMA',\n",
       "  'NASDAQ',\n",
       "  '2020-08-06 10:22:14.670',\n",
       "  7,\n",
       "  '2020-08-06 09:30:00.000',\n",
       "  '',\n",
       "  77.76145052111623,\n",
       "  100,\n",
       "  79.24523536261668,\n",
       "  100,\n",
       "  'Q'],\n",
       " ['2020-08-06',\n",
       "  'Q',\n",
       "  'SYMA',\n",
       "  'NASDAQ',\n",
       "  '2020-08-06 10:29:36.901',\n",
       "  8,\n",
       "  '2020-08-06 09:30:00.000',\n",
       "  '',\n",
       "  75.601133626614,\n",
       "  100,\n",
       "  76.95535394403952,\n",
       "  100,\n",
       "  'Q'],\n",
       " ['2020-08-06',\n",
       "  'Q',\n",
       "  'SYMA',\n",
       "  'NASDAQ',\n",
       "  '2020-08-06 10:35:26.600',\n",
       "  9,\n",
       "  '2020-08-06 09:30:00.000',\n",
       "  '',\n",
       "  76.30004631539111,\n",
       "  100,\n",
       "  77.61870682753302,\n",
       "  100,\n",
       "  'Q'],\n",
       " ['2020-08-06',\n",
       "  'T',\n",
       "  'SYMA',\n",
       "  'NASDAQ',\n",
       "  '2020-08-06 10:42:21.079',\n",
       "  10,\n",
       "  '2020-08-06 09:30:00.000',\n",
       "  78.93245610745132,\n",
       "  '',\n",
       "  '',\n",
       "  '',\n",
       "  '',\n",
       "  'T']]"
      ]
     },
     "execution_count": 13,
     "metadata": {},
     "output_type": "execute_result"
    }
   ],
   "source": [
    "x = parsed.take(10)\n",
    "x\n",
    "\n",
    "# raw.collect()[0]"
   ]
  },
  {
   "cell_type": "code",
   "execution_count": 36,
   "id": "70535af5",
   "metadata": {},
   "outputs": [],
   "source": [
    "struct1 = StructType([StructField(\"trade_dt\", T.DateType(), False),\n",
    "                      StructField(\"rec_type\", T.StringType(), False),\n",
    "                      StructField(\"symbol\",   T.StringType(), False),\n",
    "                      StructField(\"exchange\", T.StringType(), False),\n",
    "                      StructField(\"event_tm\", T.TimestampType(), False),\n",
    "                      StructField(\"event_seq_nb\", T.IntegerType(), False),\n",
    "                      StructField(\"arrival_tm\",   T.TimestampType(), False),\n",
    "                      StructField(\"trade_pr\", T.DecimalType(), True),\n",
    "                      StructField(\"bid_pr\",   T.DecimalType(), False),\n",
    "                      StructField(\"bid_size\", T.IntegerType(), False),\n",
    "                      StructField(\"ask_pr\",   T.DecimalType(), False),\n",
    "                      StructField(\"ask_size\", T.IntegerType(), False),\n",
    "                      StructField(\"partition\", T.StringType(), False)]\n",
    "                    )"
   ]
  },
  {
   "cell_type": "code",
   "execution_count": 8,
   "id": "7d0a5f2b",
   "metadata": {},
   "outputs": [],
   "source": [
    "struct2 = StructType([StructField(\"trade_dt\", T.StringType(), False),\n",
    "                      StructField(\"rec_type\", T.StringType(), False),\n",
    "                      StructField(\"symbol\",   T.StringType(), False),\n",
    "                      StructField(\"exchange\", T.StringType(), False),\n",
    "                      StructField(\"event_tm\", T.StringType(), False),\n",
    "                      StructField(\"event_seq_nb\", T.StringType(), False),\n",
    "                      StructField(\"arrival_tm\",   T.StringType(), False),\n",
    "                      StructField(\"trade_pr\", T.StringType(), False),\n",
    "                      StructField(\"bid_pr\",   T.StringType(), False),\n",
    "                      StructField(\"bid_size\", T.StringType(), False),\n",
    "                      StructField(\"ask_pr\",   T.StringType(), False),\n",
    "                      StructField(\"ask_size\", T.StringType(), False),\n",
    "                      StructField(\"partition\", T.StringType(), False)]\n",
    "                    )"
   ]
  },
  {
   "cell_type": "code",
   "execution_count": 37,
   "id": "e601fb44",
   "metadata": {},
   "outputs": [
    {
     "data": {
      "text/plain": [
       "13"
      ]
     },
     "execution_count": 37,
     "metadata": {},
     "output_type": "execute_result"
    }
   ],
   "source": [
    "len(struct1)"
   ]
  },
  {
   "cell_type": "code",
   "execution_count": 28,
   "id": "de932286",
   "metadata": {},
   "outputs": [],
   "source": [
    "data = spark.createDataFrame(parsed, schema=struct2)"
   ]
  },
  {
   "cell_type": "code",
   "execution_count": 29,
   "id": "3ef395bf",
   "metadata": {},
   "outputs": [
    {
     "name": "stdout",
     "output_type": "stream",
     "text": [
      "+----------+--------+------+--------+--------------------+------------+--------------------+--------+-----------------+--------+-----------------+--------+---------+\n",
      "|  trade_dt|rec_type|symbol|exchange|            event_tm|event_seq_nb|          arrival_tm|trade_pr|           bid_pr|bid_size|           ask_pr|ask_size|partition|\n",
      "+----------+--------+------+--------+--------------------+------------+--------------------+--------+-----------------+--------+-----------------+--------+---------+\n",
      "|2020-08-06|       Q|  SYMA|  NASDAQ|2020-08-06 09:38:...|           1|2020-08-06 09:30:...|        |78.13370587077013|     100| 79.8251633824899|     100|        Q|\n",
      "|2020-08-06|       Q|  SYMA|  NASDAQ|2020-08-06 09:46:...|           2|2020-08-06 09:30:...|        |76.52304470696788|     100|76.57240785476783|     100|        Q|\n",
      "|2020-08-06|       Q|  SYMA|  NASDAQ|2020-08-06 09:52:...|           3|2020-08-06 09:30:...|        |78.74535582037817|     100|79.09279949812425|     100|        Q|\n",
      "|2020-08-06|       Q|  SYMA|  NASDAQ|2020-08-06 09:58:...|           4|2020-08-06 09:30:...|        |75.61362753973539|     100|76.94977735069746|     100|        Q|\n",
      "+----------+--------+------+--------+--------------------+------------+--------------------+--------+-----------------+--------+-----------------+--------+---------+\n",
      "only showing top 4 rows\n",
      "\n"
     ]
    }
   ],
   "source": [
    "data.show(4)"
   ]
  },
  {
   "cell_type": "code",
   "execution_count": 30,
   "id": "b34dac3b",
   "metadata": {},
   "outputs": [],
   "source": [
    "data = data.withColumn('trade_dt', F.col('trade_dt').cast(T.DateType()))\n",
    "data = data.withColumn('event_tm', F.col('event_tm').cast(T.TimestampType()))\n",
    "data = data.withColumn('arrival_tm', F.col('arrival_tm').cast(T.TimestampType()))\n",
    "data = data.withColumn('event_seq_nb', F.col('event_seq_nb').cast(T.IntegerType()))\n",
    "data = data.withColumn('bid_size', F.col('bid_size').cast(T.IntegerType()))\n",
    "data = data.withColumn('ask_size', F.col('ask_size').cast(T.IntegerType()))\n",
    "data = data.withColumn('trade_pr', F.col('trade_pr').cast(T.DecimalType(10,2)))\n",
    "data = data.withColumn('bid_pr', F.col('bid_pr').cast(T.DecimalType(10,2)))\n",
    "data = data.withColumn('ask_pr', F.col('ask_pr').cast(T.DecimalType(10,2)))\n",
    "\n"
   ]
  },
  {
   "cell_type": "code",
   "execution_count": 31,
   "id": "f27186c0",
   "metadata": {},
   "outputs": [
    {
     "name": "stdout",
     "output_type": "stream",
     "text": [
      "+----------+--------+------+--------+--------------------+------------+-------------------+--------+------+--------+------+--------+---------+\n",
      "|  trade_dt|rec_type|symbol|exchange|            event_tm|event_seq_nb|         arrival_tm|trade_pr|bid_pr|bid_size|ask_pr|ask_size|partition|\n",
      "+----------+--------+------+--------+--------------------+------------+-------------------+--------+------+--------+------+--------+---------+\n",
      "|2020-08-06|       Q|  SYMA|  NASDAQ|2020-08-06 09:38:...|           1|2020-08-06 09:30:00|    null| 78.13|     100| 79.83|     100|        Q|\n",
      "|2020-08-06|       Q|  SYMA|  NASDAQ|2020-08-06 09:46:...|           2|2020-08-06 09:30:00|    null| 76.52|     100| 76.57|     100|        Q|\n",
      "|2020-08-06|       Q|  SYMA|  NASDAQ|2020-08-06 09:52:...|           3|2020-08-06 09:30:00|    null| 78.75|     100| 79.09|     100|        Q|\n",
      "|2020-08-06|       Q|  SYMA|  NASDAQ|2020-08-06 09:58:...|           4|2020-08-06 09:30:00|    null| 75.61|     100| 76.95|     100|        Q|\n",
      "+----------+--------+------+--------+--------------------+------------+-------------------+--------+------+--------+------+--------+---------+\n",
      "only showing top 4 rows\n",
      "\n"
     ]
    }
   ],
   "source": [
    "data.show(4)"
   ]
  },
  {
   "cell_type": "code",
   "execution_count": 32,
   "id": "b3fdc347",
   "metadata": {
    "scrolled": false
   },
   "outputs": [
    {
     "name": "stdout",
     "output_type": "stream",
     "text": [
      "root\n",
      " |-- trade_dt: date (nullable = true)\n",
      " |-- rec_type: string (nullable = false)\n",
      " |-- symbol: string (nullable = false)\n",
      " |-- exchange: string (nullable = false)\n",
      " |-- event_tm: timestamp (nullable = true)\n",
      " |-- event_seq_nb: integer (nullable = true)\n",
      " |-- arrival_tm: timestamp (nullable = true)\n",
      " |-- trade_pr: decimal(10,2) (nullable = true)\n",
      " |-- bid_pr: decimal(10,2) (nullable = true)\n",
      " |-- bid_size: integer (nullable = true)\n",
      " |-- ask_pr: decimal(10,2) (nullable = true)\n",
      " |-- ask_size: integer (nullable = true)\n",
      " |-- partition: string (nullable = false)\n",
      "\n"
     ]
    }
   ],
   "source": [
    "data.printSchema()"
   ]
  },
  {
   "cell_type": "code",
   "execution_count": 5,
   "id": "3cc10624",
   "metadata": {},
   "outputs": [],
   "source": [
    "import json\n",
    "\n",
    "def parse_json(line : str):\n",
    "    record = json.loads(line)\n",
    "    record_type = record['event_type']\n",
    "    record_keys = set(record.keys())\n",
    "    \n",
    "    def translate(s):\n",
    "                      \n",
    "        translations = {'event_type' : 'rec_type', 'file_tm' : 'arrival_tm', 'price' : 'trade_pr'}\n",
    "        return s if s not in translations else translations[s]\n",
    "    \n",
    "    quote_columns = {'trade_dt', 'file_tm', 'event_type', 'symbol', 'event_tm', 'event_seq_nb',\n",
    "                    'exchange', 'bid_pr', 'bid_size', 'ask_pr', 'ask_size'}\n",
    "    \n",
    "    trade_columns = {'trade_dt', 'file_tm', 'event_type', 'symbol', 'event_tm', 'event_seq_nb',\n",
    "                    'exchange', 'price', 'size', 'execution_id'}\n",
    "    \n",
    "    is_valid_record = (record_type == 'Q' and record_keys == quote_columns) or \\\n",
    "                      (record_type == 'T' and record_keys == trade_columns)\n",
    "   \n",
    "    if is_valid_record:\n",
    "       translated_record =  {translate(k):v for k,v in record.items()}  \n",
    "       translated_record['partition'] = record_type                \n",
    "       return get_common_event(translated_record)                      \n",
    "    else:\n",
    "       translated_record['partition'] = 'B' \n",
    "       translated_record['line'] = line              \n",
    "       return get_common_event(translated_record)\n",
    "    \n",
    "    \n"
   ]
  },
  {
   "cell_type": "code",
   "execution_count": 6,
   "id": "e39ab3ca",
   "metadata": {},
   "outputs": [],
   "source": [
    "def get_common_event(record : dict ):\n",
    "    \n",
    "    common_data = ('trade_dt', 'rec_type', 'symbol', 'exchange', 'event_tm', 'event_seq_nb','arrival_tm', \n",
    "                   'trade_pr',  'bid_pr', 'bid_size', 'ask_pr', 'ask_size', 'partition')\n",
    "    \n",
    "    return [record.get(k,\"\") for k in common_data] \n",
    "    \n",
    "    "
   ]
  },
  {
   "cell_type": "code",
   "execution_count": 33,
   "id": "6fcc8836",
   "metadata": {},
   "outputs": [],
   "source": [
    "data.write.partitionBy('partition').mode('overwrite').parquet('output_dir')"
   ]
  },
  {
   "cell_type": "code",
   "execution_count": null,
   "id": "0f7f3cdc",
   "metadata": {},
   "outputs": [],
   "source": []
  }
 ],
 "metadata": {
  "kernelspec": {
   "display_name": "Python 3",
   "language": "python",
   "name": "python3"
  },
  "language_info": {
   "codemirror_mode": {
    "name": "ipython",
    "version": 3
   },
   "file_extension": ".py",
   "mimetype": "text/x-python",
   "name": "python",
   "nbconvert_exporter": "python",
   "pygments_lexer": "ipython3",
   "version": "3.8.5"
  }
 },
 "nbformat": 4,
 "nbformat_minor": 5
}
