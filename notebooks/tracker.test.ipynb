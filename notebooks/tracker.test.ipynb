{
 "cells": [
  {
   "cell_type": "code",
   "execution_count": 1,
   "id": "694f2eec",
   "metadata": {},
   "outputs": [],
   "source": [
    "from tracker import Tracker\n",
    "import configparser"
   ]
  },
  {
   "cell_type": "code",
   "execution_count": 2,
   "id": "f0aadb36",
   "metadata": {},
   "outputs": [
    {
     "data": {
      "text/plain": [
       "['config_local.ini']"
      ]
     },
     "execution_count": 2,
     "metadata": {},
     "output_type": "execute_result"
    }
   ],
   "source": [
    "config = configparser.ConfigParser()\n",
    "config.read('config_local.ini')"
   ]
  },
  {
   "cell_type": "code",
   "execution_count": 3,
   "id": "99a3cfad",
   "metadata": {},
   "outputs": [],
   "source": [
    "t = Tracker('etl', config)"
   ]
  },
  {
   "cell_type": "code",
   "execution_count": 4,
   "id": "dfad801e",
   "metadata": {},
   "outputs": [],
   "source": [
    "t.update_job_status(\"success\")"
   ]
  },
  {
   "cell_type": "code",
   "execution_count": 4,
   "id": "ed65c367",
   "metadata": {},
   "outputs": [],
   "source": [
    "a = t.get_job_status('etl2020-08-06')"
   ]
  },
  {
   "cell_type": "code",
   "execution_count": 7,
   "id": "2a182aee",
   "metadata": {},
   "outputs": [
    {
     "data": {
      "text/plain": [
       "('etl2020-08-06', datetime.datetime(2021, 7, 20, 15, 2, 2, 738379), 'success')"
      ]
     },
     "execution_count": 7,
     "metadata": {},
     "output_type": "execute_result"
    }
   ],
   "source": [
    "a"
   ]
  },
  {
   "cell_type": "code",
   "execution_count": 6,
   "id": "09711d54",
   "metadata": {},
   "outputs": [
    {
     "data": {
      "text/plain": [
       "tuple"
      ]
     },
     "execution_count": 6,
     "metadata": {},
     "output_type": "execute_result"
    }
   ],
   "source": [
    "type(a)"
   ]
  },
  {
   "cell_type": "code",
   "execution_count": 24,
   "id": "3f152243",
   "metadata": {},
   "outputs": [
    {
     "name": "stdout",
     "output_type": "stream",
     "text": [
      "+----------+--------+------+--------+--------------------+------------+-------------------+--------+------+--------+------+--------+----+---------+\n",
      "|  trade_dt|rec_type|symbol|exchange|            event_tm|event_seq_nb|         arrival_tm|trade_pr|bid_pr|bid_size|ask_pr|ask_size|line|partition|\n",
      "+----------+--------+------+--------+--------------------+------------+-------------------+--------+------+--------+------+--------+----+---------+\n",
      "|2020-08-05|       Q|  SYMA|  NASDAQ|2020-08-05 09:36:...|           1|2020-08-05 09:30:00|    null| 76.10|     100| 77.96|     100|null|        Q|\n",
      "|2020-08-05|       Q|  SYMA|  NASDAQ|2020-08-05 09:42:...|           2|2020-08-05 09:30:00|    null| 75.44|     100| 75.94|     100|null|        Q|\n",
      "|2020-08-05|       Q|  SYMA|  NASDAQ|2020-08-05 09:48:...|           3|2020-08-05 09:30:00|    null| 78.85|     100| 80.69|     100|null|        Q|\n",
      "|2020-08-05|       Q|  SYMA|  NASDAQ|2020-08-05 09:53:...|           4|2020-08-05 09:30:00|    null| 74.98|     100| 76.16|     100|null|        Q|\n",
      "|2020-08-05|       Q|  SYMA|  NASDAQ|2020-08-05 10:00:...|           5|2020-08-05 09:30:00|    null| 76.71|     100| 77.86|     100|null|        Q|\n",
      "|2020-08-05|       Q|  SYMA|  NASDAQ|2020-08-05 10:05:...|           6|2020-08-05 09:30:00|    null| 76.79|     100| 77.80|     100|null|        Q|\n",
      "|2020-08-05|       Q|  SYMA|  NASDAQ|2020-08-05 10:13:...|           7|2020-08-05 09:30:00|    null| 76.37|     100| 76.95|     100|null|        Q|\n",
      "|2020-08-05|       Q|  SYMA|  NASDAQ|2020-08-05 10:21:...|           8|2020-08-05 09:30:00|    null| 77.33|     100| 77.65|     100|null|        Q|\n",
      "|2020-08-05|       Q|  SYMA|  NASDAQ|2020-08-05 10:30:...|           9|2020-08-05 09:30:00|    null| 77.11|     100| 77.53|     100|null|        Q|\n",
      "|2020-08-05|       Q|  SYMA|  NASDAQ|2020-08-05 10:45:...|          11|2020-08-05 09:30:00|    null| 77.70|     100| 79.19|     100|null|        Q|\n",
      "|2020-08-05|       Q|  SYMA|  NASDAQ|2020-08-05 10:54:...|          12|2020-08-05 09:30:00|    null| 75.10|     100| 75.83|     100|null|        Q|\n",
      "|2020-08-05|       Q|  SYMA|  NASDAQ|2020-08-05 11:02:...|          13|2020-08-05 09:30:00|    null| 77.77|     100| 79.41|     100|null|        Q|\n",
      "|2020-08-05|       Q|  SYMA|  NASDAQ|2020-08-05 11:11:...|          14|2020-08-05 09:30:00|    null| 76.40|     100| 76.84|     100|null|        Q|\n",
      "|2020-08-05|       Q|  SYMA|  NASDAQ|2020-08-05 11:19:...|          15|2020-08-05 09:30:00|    null| 79.10|     100| 79.83|     100|null|        Q|\n",
      "|2020-08-05|       Q|  SYMA|  NASDAQ|2020-08-05 11:29:...|          16|2020-08-05 09:30:00|    null| 74.72|     100| 76.05|     100|null|        Q|\n",
      "|2020-08-05|       Q|  SYMA|  NASDAQ|2020-08-05 11:34:...|          17|2020-08-05 09:30:00|    null| 78.06|     100| 78.37|     100|null|        Q|\n",
      "|2020-08-05|       Q|  SYMA|  NASDAQ|2020-08-05 11:41:...|          18|2020-08-05 09:30:00|    null| 78.72|     100| 80.46|     100|null|        Q|\n",
      "|2020-08-05|       Q|  SYMA|  NASDAQ|2020-08-05 11:50:...|          19|2020-08-05 09:30:00|    null| 79.17|     100| 80.15|     100|null|        Q|\n",
      "|2020-08-05|       Q|  SYMA|  NASDAQ|2020-08-05 12:03:...|          21|2020-08-05 09:30:00|    null| 77.28|     100| 77.81|     100|null|        Q|\n",
      "|2020-08-05|       Q|  SYMA|  NASDAQ|2020-08-05 12:12:...|          22|2020-08-05 09:30:00|    null| 75.31|     100| 75.68|     100|null|        Q|\n",
      "|2020-08-05|       Q|  SYMA|  NASDAQ|2020-08-05 12:18:...|          23|2020-08-05 09:30:00|    null| 77.96|     100| 78.14|     100|null|        Q|\n",
      "|2020-08-05|       Q|  SYMA|  NASDAQ|2020-08-05 12:24:...|          24|2020-08-05 09:30:00|    null| 77.60|     100| 78.43|     100|null|        Q|\n",
      "|2020-08-05|       Q|  SYMA|  NASDAQ|2020-08-05 12:32:...|          25|2020-08-05 09:30:00|    null| 77.82|     100| 79.20|     100|null|        Q|\n",
      "|2020-08-05|       Q|  SYMA|  NASDAQ|2020-08-05 12:41:...|          26|2020-08-05 09:30:00|    null| 78.64|     100| 80.20|     100|null|        Q|\n",
      "|2020-08-05|       Q|  SYMA|  NASDAQ|2020-08-05 12:49:...|          27|2020-08-05 09:30:00|    null| 77.40|     100| 78.00|     100|null|        Q|\n",
      "|2020-08-05|       Q|  SYMA|  NASDAQ|2020-08-05 12:55:...|          28|2020-08-05 09:30:00|    null| 76.06|     100| 77.44|     100|null|        Q|\n",
      "|2020-08-05|       Q|  SYMA|  NASDAQ|2020-08-05 13:01:...|          29|2020-08-05 09:30:00|    null| 78.16|     100| 78.90|     100|null|        Q|\n",
      "|2020-08-05|       Q|  SYMA|  NASDAQ|2020-08-05 13:17:...|          31|2020-08-05 09:30:00|    null| 75.07|     100| 76.17|     100|null|        Q|\n",
      "|2020-08-05|       Q|  SYMA|  NASDAQ|2020-08-05 13:23:...|          32|2020-08-05 09:30:00|    null| 75.29|     100| 77.25|     100|null|        Q|\n",
      "|2020-08-05|       Q|  SYMA|  NASDAQ|2020-08-05 13:32:...|          33|2020-08-05 09:30:00|    null| 76.58|     100| 77.35|     100|null|        Q|\n",
      "|2020-08-05|       Q|  SYMA|  NASDAQ|2020-08-05 13:37:...|          34|2020-08-05 09:30:00|    null| 75.80|     100| 77.15|     100|null|        Q|\n",
      "|2020-08-05|       Q|  SYMA|  NASDAQ|2020-08-05 13:46:...|          35|2020-08-05 09:30:00|    null| 77.80|     100| 79.52|     100|null|        Q|\n",
      "|2020-08-05|       Q|  SYMA|  NASDAQ|2020-08-05 13:52:...|          36|2020-08-05 09:30:00|    null| 77.23|     100| 78.43|     100|null|        Q|\n",
      "|2020-08-05|       Q|  SYMA|  NASDAQ|2020-08-05 14:01:...|          37|2020-08-05 09:30:00|    null| 77.22|     100| 79.18|     100|null|        Q|\n",
      "|2020-08-05|       Q|  SYMA|  NASDAQ|2020-08-05 14:06:...|          38|2020-08-05 09:30:00|    null| 74.84|     100| 75.34|     100|null|        Q|\n",
      "|2020-08-05|       Q|  SYMA|  NASDAQ|2020-08-05 14:13:...|          39|2020-08-05 09:30:00|    null| 78.72|     100| 80.44|     100|null|        Q|\n",
      "|2020-08-05|       Q|  SYMA|  NASDAQ|2020-08-05 14:29:...|          41|2020-08-05 09:30:00|    null| 75.50|     100| 77.36|     100|null|        Q|\n",
      "|2020-08-05|       Q|  SYMA|  NASDAQ|2020-08-05 14:36:...|          42|2020-08-05 09:30:00|    null| 78.63|     100| 78.98|     100|null|        Q|\n",
      "|2020-08-05|       Q|  SYMA|  NASDAQ|2020-08-05 14:42:...|          43|2020-08-05 09:30:00|    null| 77.93|     100| 78.12|     100|null|        Q|\n",
      "|2020-08-05|       Q|  SYMA|  NASDAQ|2020-08-05 14:50:...|          44|2020-08-05 09:30:00|    null| 78.86|     100| 79.74|     100|null|        Q|\n",
      "|2020-08-05|       Q|  SYMA|  NASDAQ|2020-08-05 14:59:...|          45|2020-08-05 09:30:00|    null| 77.59|     100| 78.79|     100|null|        Q|\n",
      "|2020-08-05|       Q|  SYMA|  NASDAQ|2020-08-05 15:05:...|          46|2020-08-05 09:30:00|    null| 79.22|     100| 79.30|     100|null|        Q|\n",
      "|2020-08-05|       Q|  SYMA|  NASDAQ|2020-08-05 15:11:...|          47|2020-08-05 09:30:00|    null| 78.35|     100| 79.63|     100|null|        Q|\n",
      "|2020-08-05|       Q|  SYMA|  NASDAQ|2020-08-05 15:20:...|          48|2020-08-05 09:30:00|    null| 79.21|     100| 81.07|     100|null|        Q|\n",
      "|2020-08-05|       Q|  SYMA|  NASDAQ|2020-08-05 15:27:...|          49|2020-08-05 09:30:00|    null| 79.14|     100| 80.86|     100|null|        Q|\n",
      "|2020-08-05|       Q|  SYMA|  NASDAQ|2020-08-05 15:39:...|          51|2020-08-05 09:30:00|    null| 75.59|     100| 75.77|     100|null|        Q|\n",
      "|2020-08-05|       Q|  SYMA|  NASDAQ|2020-08-05 15:48:...|          52|2020-08-05 09:30:00|    null| 75.26|     100| 77.18|     100|null|        Q|\n",
      "|2020-08-05|       Q|  SYMA|  NASDAQ|2020-08-05 15:54:...|          53|2020-08-05 09:30:00|    null| 74.77|     100| 75.43|     100|null|        Q|\n",
      "|2020-08-05|       Q|  SYMA|  NASDAQ|2020-08-05 16:01:...|          54|2020-08-05 09:30:00|    null| 75.95|     100| 76.99|     100|null|        Q|\n",
      "|2020-08-05|       Q|  SYMA|  NASDAQ|2020-08-05 16:09:...|          55|2020-08-05 09:30:00|    null| 76.95|     100| 77.70|     100|null|        Q|\n",
      "+----------+--------+------+--------+--------------------+------------+-------------------+--------+------+--------+------+--------+----+---------+\n",
      "only showing top 50 rows\n",
      "\n"
     ]
    }
   ],
   "source": [
    "from pyspark.sql import SparkSession\n",
    "spark = SparkSession.builder.appName('test').master('local').getOrCreate()\n",
    "df = spark.read.parquet(\"wasbs://output@guidedcapstonesa.blob.core.windows.net/stage/\")\n",
    "df.show(50)"
   ]
  },
  {
   "cell_type": "code",
   "execution_count": 20,
   "id": "2dfff17b",
   "metadata": {},
   "outputs": [
    {
     "ename": "ValueError",
     "evalue": "Invalid isoformat string: '2020-0m-06'",
     "output_type": "error",
     "traceback": [
      "\u001b[0;31m---------------------------------------------------------------------------\u001b[0m",
      "\u001b[0;31mValueError\u001b[0m                                Traceback (most recent call last)",
      "\u001b[0;32m/tmp/ipykernel_61991/2218368330.py\u001b[0m in \u001b[0;36m<module>\u001b[0;34m\u001b[0m\n\u001b[1;32m      1\u001b[0m \u001b[0;32mfrom\u001b[0m \u001b[0mdatetime\u001b[0m \u001b[0;32mimport\u001b[0m \u001b[0mdate\u001b[0m\u001b[0;34m\u001b[0m\u001b[0;34m\u001b[0m\u001b[0m\n\u001b[0;32m----> 2\u001b[0;31m \u001b[0md\u001b[0m \u001b[0;34m=\u001b[0m \u001b[0mdate\u001b[0m\u001b[0;34m.\u001b[0m\u001b[0mfromisoformat\u001b[0m\u001b[0;34m(\u001b[0m\u001b[0;34m'2020-0m-06'\u001b[0m\u001b[0;34m)\u001b[0m\u001b[0;34m\u001b[0m\u001b[0;34m\u001b[0m\u001b[0m\n\u001b[0m",
      "\u001b[0;31mValueError\u001b[0m: Invalid isoformat string: '2020-0m-06'"
     ]
    }
   ],
   "source": [
    "from datetime import date\n",
    "d = date.fromisoformat('2020-0m-06')"
   ]
  },
  {
   "cell_type": "code",
   "execution_count": 19,
   "id": "64a6b2a3",
   "metadata": {},
   "outputs": [
    {
     "data": {
      "text/plain": [
       "datetime.date(2020, 8, 6)"
      ]
     },
     "execution_count": 19,
     "metadata": {},
     "output_type": "execute_result"
    }
   ],
   "source": [
    "d"
   ]
  },
  {
   "cell_type": "code",
   "execution_count": null,
   "id": "1c845c5f",
   "metadata": {},
   "outputs": [],
   "source": []
  }
 ],
 "metadata": {
  "kernelspec": {
   "display_name": "Python 3 (ipykernel)",
   "language": "python",
   "name": "python3"
  },
  "language_info": {
   "codemirror_mode": {
    "name": "ipython",
    "version": 3
   },
   "file_extension": ".py",
   "mimetype": "text/x-python",
   "name": "python",
   "nbconvert_exporter": "python",
   "pygments_lexer": "ipython3",
   "version": "3.8.10"
  }
 },
 "nbformat": 4,
 "nbformat_minor": 5
}
