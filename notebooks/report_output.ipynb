{
 "cells": [
  {
   "cell_type": "markdown",
   "id": "5f04524a",
   "metadata": {},
   "source": [
    "## Equity Market Data Analysis Reports"
   ]
  },
  {
   "cell_type": "code",
   "execution_count": 1,
   "id": "694f2eec",
   "metadata": {},
   "outputs": [],
   "source": [
    "import configparser\n",
    "from pyspark.sql import SparkSession\n",
    "from equity_market_data_analysis import Tracker"
   ]
  },
  {
   "cell_type": "code",
   "execution_count": 2,
   "id": "f0aadb36",
   "metadata": {},
   "outputs": [
    {
     "name": "stderr",
     "output_type": "stream",
     "text": [
      "21/07/25 15:21:16 WARN Utils: Your hostname, pySpark-VirtualBox resolves to a loopback address: 127.0.1.1; using 10.0.2.15 instead (on interface enp0s3)\n",
      "21/07/25 15:21:16 WARN Utils: Set SPARK_LOCAL_IP if you need to bind to another address\n",
      "WARNING: An illegal reflective access operation has occurred\n",
      "WARNING: Illegal reflective access by org.apache.spark.unsafe.Platform (file:/home/alan/.local/share/virtualenvs/guided-capstone-WVET3RpX/lib/python3.8/site-packages/pyspark/jars/spark-unsafe_2.12-3.1.2.jar) to constructor java.nio.DirectByteBuffer(long,int)\n",
      "WARNING: Please consider reporting this to the maintainers of org.apache.spark.unsafe.Platform\n",
      "WARNING: Use --illegal-access=warn to enable warnings of further illegal reflective access operations\n",
      "WARNING: All illegal access operations will be denied in a future release\n",
      "21/07/25 15:21:17 WARN NativeCodeLoader: Unable to load native-hadoop library for your platform... using builtin-java classes where applicable\n",
      "Using Spark's default log4j profile: org/apache/spark/log4j-defaults.properties\n",
      "Setting default log level to \"WARN\".\n",
      "To adjust logging level use sc.setLogLevel(newLevel). For SparkR, use setLogLevel(newLevel).\n"
     ]
    }
   ],
   "source": [
    "spark = SparkSession.builder.getOrCreate()\n",
    "\n",
    "config = configparser.ConfigParser()\n",
    "config.read('../config_local.ini')\n",
    "\n",
    "output_container = config.get('APP_CONFIG', 'OutputContainer')\n",
    "eod_report_dir = config.get('APP_CONFIG', 'EodReportDir')\n",
    "analytical_report_dir = config.get('APP_CONFIG', 'AnalyticalReportDir')\n",
    "processing_date = config.get('PRODUCTION', 'ProcessingDate')   \n",
    "\n",
    "tracker = Tracker('', config) # name not needed for report-only\n"
   ]
  },
  {
   "cell_type": "markdown",
   "id": "883f9962",
   "metadata": {},
   "source": [
    "### EOD reports"
   ]
  },
  {
   "cell_type": "code",
   "execution_count": 3,
   "id": "efaed80f",
   "metadata": {
    "scrolled": true
   },
   "outputs": [
    {
     "name": "stderr",
     "output_type": "stream",
     "text": [
      "21/07/25 15:21:19 WARN MetricsConfig: Cannot locate configuration: tried hadoop-metrics2-azure-file-system.properties,hadoop-metrics2.properties\n",
      "                                                                                \r"
     ]
    },
    {
     "name": "stdout",
     "output_type": "stream",
     "text": [
      "+----------+------+--------+--------------------+------------+-------------------+------+--------+------+--------+\n",
      "|  trade_dt|symbol|exchange|            event_tm|event_seq_nb|         arrival_tm|bid_pr|bid_size|ask_pr|ask_size|\n",
      "+----------+------+--------+--------------------+------------+-------------------+------+--------+------+--------+\n",
      "|2020-08-06|  SYMA|  NASDAQ|2020-08-06 10:22:...|           7|2020-08-06 09:30:00| 77.76|     100| 79.25|     100|\n",
      "|2020-08-06|  SYMA|  NASDAQ|2020-08-06 10:29:...|           8|2020-08-06 09:30:00| 75.60|     100| 76.96|     100|\n",
      "|2020-08-06|  SYMA|  NASDAQ|2020-08-06 11:15:...|          14|2020-08-06 09:30:00| 79.20|     100| 80.12|     100|\n",
      "|2020-08-06|  SYMA|  NASDAQ|2020-08-06 11:23:...|          15|2020-08-06 09:30:00| 74.84|     100| 76.31|     100|\n",
      "|2020-08-06|  SYMA|  NASDAQ|2020-08-06 11:49:...|          18|2020-08-06 09:30:00| 75.37|     100| 76.57|     100|\n",
      "|2020-08-06|  SYMA|  NASDAQ|2020-08-06 11:55:...|          19|2020-08-06 09:30:00| 75.16|     100| 75.76|     100|\n",
      "|2020-08-06|  SYMA|  NASDAQ|2020-08-06 12:23:...|          23|2020-08-06 09:30:00| 77.86|     100| 78.17|     100|\n",
      "|2020-08-06|  SYMA|  NASDAQ|2020-08-06 12:55:...|          28|2020-08-06 09:30:00| 75.25|     100| 75.80|     100|\n",
      "|2020-08-06|  SYMA|  NASDAQ|2020-08-06 14:57:...|          44|2020-08-06 09:30:00| 77.76|     100| 79.15|     100|\n",
      "|2020-08-06|  SYMA|  NASDAQ|2020-08-06 15:31:...|          49|2020-08-06 09:30:00| 77.01|     100| 78.49|     100|\n",
      "|2020-08-06|  SYMA|  NASDAQ|2020-08-06 16:03:...|          54|2020-08-06 09:30:00| 75.58|     100| 76.74|     100|\n",
      "|2020-08-06|  SYMA|  NASDAQ|2020-08-06 17:37:...|          67|2020-08-06 09:30:00| 78.75|     100| 80.74|     100|\n",
      "|2020-08-06|  SYMA|  NASDAQ|2020-08-06 17:46:...|          68|2020-08-06 09:30:00| 76.94|     100| 77.31|     100|\n",
      "|2020-08-06|  SYMA|  NASDAQ|2020-08-06 18:22:...|          73|2020-08-06 09:30:00| 75.18|     100| 77.15|     100|\n",
      "|2020-08-06|  SYMA|  NASDAQ|2020-08-06 20:15:...|          89|2020-08-06 09:30:00| 79.26|     100| 80.22|     100|\n",
      "|2020-08-06|  SYMA|  NASDAQ|2020-08-06 20:38:...|          92|2020-08-06 09:30:00| 76.15|     100| 77.14|     100|\n",
      "|2020-08-06|  SYMA|  NASDAQ|2020-08-06 20:53:...|          94|2020-08-06 09:30:00| 77.48|     100| 78.77|     100|\n",
      "|2020-08-06|  SYMA|  NASDAQ|2020-08-06 20:59:...|          95|2020-08-06 09:30:00| 77.95|     100| 78.76|     100|\n",
      "|2020-08-06|  SYMA|  NASDAQ|2020-08-06 21:18:...|          98|2020-08-06 09:30:00| 77.96|     100| 79.86|     100|\n",
      "|2020-08-06|  SYMA|    NYSE|2020-08-06 09:47:...|           2|2020-08-06 09:30:00| 76.53|     100| 76.94|     100|\n",
      "+----------+------+--------+--------------------+------------+-------------------+------+--------+------+--------+\n",
      "only showing top 20 rows\n",
      "\n"
     ]
    }
   ],
   "source": [
    "# quotes\n",
    "\n",
    "spark.read.parquet(output_container + '/' + eod_report_dir + '/quote_dt=' + processing_date)\\\n",
    ".show(20)"
   ]
  },
  {
   "cell_type": "code",
   "execution_count": 4,
   "id": "0bc965ff",
   "metadata": {},
   "outputs": [
    {
     "name": "stderr",
     "output_type": "stream",
     "text": [
      "\r",
      "[Stage 3:>                                                          (0 + 1) / 1]\r"
     ]
    },
    {
     "name": "stdout",
     "output_type": "stream",
     "text": [
      "+----------+------+--------+--------------------+------------+-------------------+--------+\n",
      "|  trade_dt|symbol|exchange|            event_tm|event_seq_nb|         arrival_tm|trade_pr|\n",
      "+----------+------+--------+--------------------+------------+-------------------+--------+\n",
      "|2020-08-06|  SYMA|  NASDAQ|2020-08-06 10:42:...|          10|2020-08-06 09:30:00|   78.93|\n",
      "|2020-08-06|  SYMA|  NASDAQ|2020-08-06 13:09:...|          30|2020-08-06 09:30:00|   78.31|\n",
      "|2020-08-06|  SYMA|  NASDAQ|2020-08-06 19:09:...|          80|2020-08-06 09:30:00|   78.62|\n",
      "|2020-08-06|  SYMA|    NYSE|2020-08-06 12:00:...|          20|2020-08-06 09:30:00|   76.16|\n",
      "|2020-08-06|  SYMA|    NYSE|2020-08-06 16:58:...|          60|2020-08-06 09:30:00|   78.32|\n",
      "|2020-08-06|  SYMA|    NYSE|2020-08-06 20:49:...|          90|2020-08-06 09:30:00|   75.71|\n",
      "|2020-08-06|  SYMB|  NASDAQ|2020-08-06 12:01:...|          20|2020-08-06 09:30:00|   32.47|\n",
      "|2020-08-06|  SYMB|  NASDAQ|2020-08-06 14:15:...|          40|2020-08-06 09:30:00|   31.89|\n",
      "|2020-08-06|  SYMB|  NASDAQ|2020-08-06 20:07:...|          90|2020-08-06 09:30:00|   36.24|\n",
      "|2020-08-06|  SYMB|    NYSE|2020-08-06 13:13:...|          30|2020-08-06 09:30:00|   33.69|\n",
      "|2020-08-06|  SYMB|    NYSE|2020-08-06 16:57:...|          60|2020-08-06 09:30:00|   33.32|\n",
      "|2020-08-06|  SYMC|  NASDAQ|2020-08-06 13:07:...|          30|2020-08-06 09:30:00|  160.13|\n",
      "|2020-08-06|  SYMC|    NYSE|2020-08-06 10:42:...|          10|2020-08-06 09:30:00|  157.27|\n",
      "|2020-08-06|  SYMC|    NYSE|2020-08-06 11:52:...|          20|2020-08-06 09:30:00|  160.15|\n",
      "|2020-08-06|  SYMC|    NYSE|2020-08-06 19:00:...|          80|2020-08-06 09:30:00|  159.15|\n",
      "|2020-08-06|  SYMA|  NASDAQ|2020-08-06 14:27:...|          40|2020-08-06 09:30:00|   75.84|\n",
      "|2020-08-06|  SYMA|  NASDAQ|2020-08-06 15:39:...|          50|2020-08-06 09:30:00|   77.63|\n",
      "|2020-08-06|  SYMA|  NASDAQ|2020-08-06 16:43:...|          60|2020-08-06 09:30:00|   77.57|\n",
      "|2020-08-06|  SYMA|  NASDAQ|2020-08-06 21:33:...|         100|2020-08-06 09:30:00|   77.44|\n",
      "|2020-08-06|  SYMA|    NYSE|2020-08-06 14:27:...|          40|2020-08-06 09:30:00|   77.12|\n",
      "+----------+------+--------+--------------------+------------+-------------------+--------+\n",
      "only showing top 20 rows\n",
      "\n"
     ]
    },
    {
     "name": "stderr",
     "output_type": "stream",
     "text": [
      "\r",
      "                                                                                \r"
     ]
    }
   ],
   "source": [
    "# trades\n",
    "\n",
    "spark.read.parquet(output_container + '/' + eod_report_dir + '/trade_dt=' + processing_date)\\\n",
    ".show(20)"
   ]
  },
  {
   "cell_type": "markdown",
   "id": "db212cd6",
   "metadata": {},
   "source": [
    "### Analytical report"
   ]
  },
  {
   "cell_type": "code",
   "execution_count": 5,
   "id": "ceda034a",
   "metadata": {},
   "outputs": [
    {
     "name": "stdout",
     "output_type": "stream",
     "text": [
      "+----------+------+--------+--------------------+--------------+----------------------+--------------------+\n",
      "|  trade_dt|symbol|exchange|            event_tm|prior_trade_pr|prior_mov_avg_trade_pr|prior_close_trade_pr|\n",
      "+----------+------+--------+--------------------+--------------+----------------------+--------------------+\n",
      "|2020-08-06|  SYMC|  NASDAQ|2020-08-06 19:04:...|        159.07|                159.07|              158.02|\n",
      "|2020-08-06|  SYMC|  NASDAQ|2020-08-06 19:12:...|        159.07|                159.07|              158.02|\n",
      "|2020-08-06|  SYMC|  NASDAQ|2020-08-06 19:20:...|        159.07|                159.07|              158.02|\n",
      "|2020-08-06|  SYMC|  NASDAQ|2020-08-06 19:28:...|        159.07|                159.07|              158.02|\n",
      "|2020-08-06|  SYMC|  NASDAQ|2020-08-06 19:32:...|        159.07|                159.07|              158.02|\n",
      "|2020-08-06|  SYMC|  NASDAQ|2020-08-06 19:41:...|        159.07|                159.07|              158.02|\n",
      "|2020-08-06|  SYMC|  NASDAQ|2020-08-06 19:48:...|        159.07|                159.07|              158.02|\n",
      "|2020-08-06|  SYMC|  NASDAQ|2020-08-06 19:57:...|        159.07|                159.07|              158.02|\n",
      "|2020-08-06|  SYMC|  NASDAQ|2020-08-06 20:03:...|        159.07|                159.07|              158.02|\n",
      "|2020-08-06|  SYMC|  NASDAQ|2020-08-06 20:15:...|        160.98|                160.98|              158.02|\n",
      "|2020-08-06|  SYMC|  NASDAQ|2020-08-06 20:22:...|        160.98|                160.98|              158.02|\n",
      "|2020-08-06|  SYMC|  NASDAQ|2020-08-06 20:28:...|        160.98|                160.98|              158.02|\n",
      "|2020-08-06|  SYMC|  NASDAQ|2020-08-06 20:35:...|        160.98|                160.98|              158.02|\n",
      "|2020-08-06|  SYMC|  NASDAQ|2020-08-06 20:41:...|        160.98|                160.98|              158.02|\n",
      "|2020-08-06|  SYMC|  NASDAQ|2020-08-06 20:49:...|        160.98|                160.98|              158.02|\n",
      "|2020-08-06|  SYMC|  NASDAQ|2020-08-06 20:58:...|        160.98|                160.98|              158.02|\n",
      "|2020-08-06|  SYMC|  NASDAQ|2020-08-06 21:03:...|        160.98|                160.98|              158.02|\n",
      "|2020-08-06|  SYMC|  NASDAQ|2020-08-06 21:10:...|        160.98|                160.98|              158.02|\n",
      "|2020-08-06|  SYMC|    NYSE|2020-08-06 09:37:...|        160.62|                160.62|              160.62|\n",
      "|2020-08-06|  SYMC|    NYSE|2020-08-06 09:45:...|        160.62|                160.62|              160.62|\n",
      "+----------+------+--------+--------------------+--------------+----------------------+--------------------+\n",
      "only showing top 20 rows\n",
      "\n"
     ]
    }
   ],
   "source": [
    "# analytical quote \n",
    "\n",
    "spark.read.parquet(output_container + '/' + analytical_report_dir + '/quote_dt=' + processing_date)\\\n",
    ".show(20)"
   ]
  },
  {
   "cell_type": "markdown",
   "id": "3901f19a",
   "metadata": {},
   "source": [
    "### Show status of jobs"
   ]
  },
  {
   "cell_type": "code",
   "execution_count": 6,
   "id": "68ce363a",
   "metadata": {},
   "outputs": [
    {
     "data": {
      "text/plain": [
       "('ingestion_2020-08-06',\n",
       " datetime.datetime(2021, 7, 25, 14, 39, 31, 841710),\n",
       " 'success')"
      ]
     },
     "execution_count": 6,
     "metadata": {},
     "output_type": "execute_result"
    }
   ],
   "source": [
    "tracker.get_job_status('ingestion_' + processing_date)"
   ]
  },
  {
   "cell_type": "code",
   "execution_count": 7,
   "id": "ed65c367",
   "metadata": {},
   "outputs": [
    {
     "data": {
      "text/plain": [
       "('reports_2020-08-06',\n",
       " datetime.datetime(2021, 7, 25, 14, 40, 54, 824857),\n",
       " 'success')"
      ]
     },
     "execution_count": 7,
     "metadata": {},
     "output_type": "execute_result"
    }
   ],
   "source": [
    "tracker.get_job_status('reports_' + processing_date)"
   ]
  },
  {
   "cell_type": "code",
   "execution_count": null,
   "id": "67eced2c",
   "metadata": {},
   "outputs": [],
   "source": []
  }
 ],
 "metadata": {
  "kernelspec": {
   "display_name": "Python 3 (ipykernel)",
   "language": "python",
   "name": "python3"
  },
  "language_info": {
   "codemirror_mode": {
    "name": "ipython",
    "version": 3
   },
   "file_extension": ".py",
   "mimetype": "text/x-python",
   "name": "python",
   "nbconvert_exporter": "python",
   "pygments_lexer": "ipython3",
   "version": "3.8.10"
  }
 },
 "nbformat": 4,
 "nbformat_minor": 5
}
