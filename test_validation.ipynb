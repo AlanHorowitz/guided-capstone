{
 "cells": [
  {
   "cell_type": "code",
   "execution_count": 14,
   "id": "2202c708",
   "metadata": {},
   "outputs": [],
   "source": [
    "from pyspark.sql import SparkSession\n",
    "from pyspark.sql.types import StructType, StructField\n",
    "import pyspark.sql.types as T\n",
    "import pyspark.sql.functions as F\n",
    "from datetime import date, datetime\n",
    "from decimal import Decimal\n",
    "from dateutil.parser import parse\n",
    "\n",
    "spark = SparkSession.builder.master('local').appName('app').getOrCreate()\n",
    "sc = spark.sparkContext"
   ]
  },
  {
   "cell_type": "code",
   "execution_count": 2,
   "id": "ac218f40",
   "metadata": {},
   "outputs": [],
   "source": [
    "COMMON_SCHEMA = StructType([StructField(\"trade_dt\", T.DateType(), True),\n",
    "                            StructField(\"rec_type\", T.StringType(), False),\n",
    "                            StructField(\"event_tm\", T.TimestampType(), False),\n",
    "                            StructField(\"event_seq_nb\", T.IntegerType(), False),\n",
    "                            StructField(\"trade_pr\", T.DecimalType(10, 2), True)\n",
    "                           ])\n",
    "\n",
    "QUOTE_COLUMNS = ['trade_dt', 'rec_type', 'event_tm', 'event_seq_nb', 'trade_pr']"
   ]
  },
  {
   "cell_type": "code",
   "execution_count": 13,
   "id": "3755e746",
   "metadata": {},
   "outputs": [
    {
     "data": {
      "text/plain": [
       "datetime.date(2000, 1, 1)"
      ]
     },
     "execution_count": 13,
     "metadata": {},
     "output_type": "execute_result"
    }
   ],
   "source": [
    "date(2000,1,1)"
   ]
  },
  {
   "cell_type": "code",
   "execution_count": 3,
   "id": "04d4cff9",
   "metadata": {},
   "outputs": [
    {
     "ename": "IndexError",
     "evalue": "StructType index out of range",
     "output_type": "error",
     "traceback": [
      "\u001b[0;31m---------------------------------------------------------------------------\u001b[0m",
      "\u001b[0;31mIndexError\u001b[0m                                Traceback (most recent call last)",
      "\u001b[0;32m~/.local/share/virtualenvs/guided-capstone-WVET3RpX/lib/python3.8/site-packages/pyspark/sql/types.py\u001b[0m in \u001b[0;36m__getitem__\u001b[0;34m(self, key)\u001b[0m\n\u001b[1;32m    574\u001b[0m             \u001b[0;32mtry\u001b[0m\u001b[0;34m:\u001b[0m\u001b[0;34m\u001b[0m\u001b[0;34m\u001b[0m\u001b[0m\n\u001b[0;32m--> 575\u001b[0;31m                 \u001b[0;32mreturn\u001b[0m \u001b[0mself\u001b[0m\u001b[0;34m.\u001b[0m\u001b[0mfields\u001b[0m\u001b[0;34m[\u001b[0m\u001b[0mkey\u001b[0m\u001b[0;34m]\u001b[0m\u001b[0;34m\u001b[0m\u001b[0;34m\u001b[0m\u001b[0m\n\u001b[0m\u001b[1;32m    576\u001b[0m             \u001b[0;32mexcept\u001b[0m \u001b[0mIndexError\u001b[0m\u001b[0;34m:\u001b[0m\u001b[0;34m\u001b[0m\u001b[0;34m\u001b[0m\u001b[0m\n",
      "\u001b[0;31mIndexError\u001b[0m: list index out of range",
      "\nDuring handling of the above exception, another exception occurred:\n",
      "\u001b[0;31mIndexError\u001b[0m                                Traceback (most recent call last)",
      "\u001b[0;32m<ipython-input-3-83f05e368dff>\u001b[0m in \u001b[0;36m<module>\u001b[0;34m\u001b[0m\n\u001b[0;32m----> 1\u001b[0;31m \u001b[0mCOMMON_SCHEMA\u001b[0m\u001b[0;34m[\u001b[0m\u001b[0;36m7\u001b[0m\u001b[0;34m]\u001b[0m\u001b[0;34m.\u001b[0m\u001b[0mjsonValue\u001b[0m\u001b[0;34m(\u001b[0m\u001b[0;34m)\u001b[0m\u001b[0;34m\u001b[0m\u001b[0;34m\u001b[0m\u001b[0m\n\u001b[0m",
      "\u001b[0;32m~/.local/share/virtualenvs/guided-capstone-WVET3RpX/lib/python3.8/site-packages/pyspark/sql/types.py\u001b[0m in \u001b[0;36m__getitem__\u001b[0;34m(self, key)\u001b[0m\n\u001b[1;32m    575\u001b[0m                 \u001b[0;32mreturn\u001b[0m \u001b[0mself\u001b[0m\u001b[0;34m.\u001b[0m\u001b[0mfields\u001b[0m\u001b[0;34m[\u001b[0m\u001b[0mkey\u001b[0m\u001b[0;34m]\u001b[0m\u001b[0;34m\u001b[0m\u001b[0;34m\u001b[0m\u001b[0m\n\u001b[1;32m    576\u001b[0m             \u001b[0;32mexcept\u001b[0m \u001b[0mIndexError\u001b[0m\u001b[0;34m:\u001b[0m\u001b[0;34m\u001b[0m\u001b[0;34m\u001b[0m\u001b[0m\n\u001b[0;32m--> 577\u001b[0;31m                 \u001b[0;32mraise\u001b[0m \u001b[0mIndexError\u001b[0m\u001b[0;34m(\u001b[0m\u001b[0;34m'StructType index out of range'\u001b[0m\u001b[0;34m)\u001b[0m\u001b[0;34m\u001b[0m\u001b[0;34m\u001b[0m\u001b[0m\n\u001b[0m\u001b[1;32m    578\u001b[0m         \u001b[0;32melif\u001b[0m \u001b[0misinstance\u001b[0m\u001b[0;34m(\u001b[0m\u001b[0mkey\u001b[0m\u001b[0;34m,\u001b[0m \u001b[0mslice\u001b[0m\u001b[0;34m)\u001b[0m\u001b[0;34m:\u001b[0m\u001b[0;34m\u001b[0m\u001b[0;34m\u001b[0m\u001b[0m\n\u001b[1;32m    579\u001b[0m             \u001b[0;32mreturn\u001b[0m \u001b[0mStructType\u001b[0m\u001b[0;34m(\u001b[0m\u001b[0mself\u001b[0m\u001b[0;34m.\u001b[0m\u001b[0mfields\u001b[0m\u001b[0;34m[\u001b[0m\u001b[0mkey\u001b[0m\u001b[0;34m]\u001b[0m\u001b[0;34m)\u001b[0m\u001b[0;34m\u001b[0m\u001b[0;34m\u001b[0m\u001b[0m\n",
      "\u001b[0;31mIndexError\u001b[0m: StructType index out of range"
     ]
    }
   ],
   "source": [
    "COMMON_SCHEMA[7].jsonValue()"
   ]
  },
  {
   "cell_type": "code",
   "execution_count": 16,
   "id": "a4f296a5",
   "metadata": {},
   "outputs": [],
   "source": [
    "r = [\"2020-08-05,abc,2020-08-05 09:30:00,1,12.34\", \"2020-08-05,abc,2020-08-05 09:30:0,1,12.34\"]"
   ]
  },
  {
   "cell_type": "code",
   "execution_count": 17,
   "id": "83547bb3",
   "metadata": {},
   "outputs": [],
   "source": [
    "rdd = sc.parallelize(r)"
   ]
  },
  {
   "cell_type": "code",
   "execution_count": 18,
   "id": "85e53251",
   "metadata": {},
   "outputs": [],
   "source": [
    "def parse_csv(line: str):\n",
    "    record = line.split(',')\n",
    "    \n",
    "    translated_record = {c : record[i] for i, c in enumerate(QUOTE_COLUMNS)}        \n",
    "    return get_common_event(translated_record, COMMON_SCHEMA)\n",
    "    "
   ]
  },
  {
   "cell_type": "code",
   "execution_count": 19,
   "id": "8d12df96",
   "metadata": {},
   "outputs": [],
   "source": [
    "parsed = rdd.map(parse_csv)"
   ]
  },
  {
   "cell_type": "code",
   "execution_count": 20,
   "id": "e6745e07",
   "metadata": {},
   "outputs": [
    {
     "data": {
      "text/plain": [
       "[[datetime.date(2020, 8, 5),\n",
       "  'abc',\n",
       "  datetime.datetime(2020, 8, 5, 9, 30),\n",
       "  1,\n",
       "  Decimal('12.34')],\n",
       " [datetime.date(2020, 8, 5),\n",
       "  'abc',\n",
       "  datetime.datetime(2020, 8, 5, 9, 30),\n",
       "  1,\n",
       "  Decimal('12.34')]]"
      ]
     },
     "execution_count": 20,
     "metadata": {},
     "output_type": "execute_result"
    }
   ],
   "source": [
    "parsed.collect()"
   ]
  },
  {
   "cell_type": "code",
   "execution_count": 27,
   "id": "87137858",
   "metadata": {},
   "outputs": [],
   "source": [
    "df = parsed.toDF(COMMON_SCHEMA)"
   ]
  },
  {
   "cell_type": "code",
   "execution_count": 28,
   "id": "27b3bc1d",
   "metadata": {},
   "outputs": [
    {
     "name": "stdout",
     "output_type": "stream",
     "text": [
      "root\n",
      " |-- trade_dt: date (nullable = true)\n",
      " |-- rec_type: string (nullable = false)\n",
      " |-- event_tm: timestamp (nullable = false)\n",
      " |-- event_seq_nb: integer (nullable = false)\n",
      " |-- trade_pr: decimal(10,2) (nullable = true)\n",
      "\n"
     ]
    }
   ],
   "source": [
    "df.printSchema()"
   ]
  },
  {
   "cell_type": "code",
   "execution_count": 53,
   "id": "a9733ad6",
   "metadata": {},
   "outputs": [],
   "source": [
    "rdd = sc.parallelize([[date(2021,6,14), 'abc', datetime(2020, 8, 6, 9, 38, 8, 93000), 1, Decimal(12.34)],\n",
    "                      [date(2021,6,15), 'def', datetime(2020, 8, 6, 9, 38, 8, 93000), 1, Decimal(12.34)]])"
   ]
  },
  {
   "cell_type": "code",
   "execution_count": 6,
   "id": "c2e2105b",
   "metadata": {},
   "outputs": [
    {
     "data": {
      "text/plain": [
       "[['2020-08-05,abc,2020-08-05 09:30:00,1,12.34']]"
      ]
     },
     "execution_count": 6,
     "metadata": {},
     "output_type": "execute_result"
    }
   ],
   "source": [
    "rdd.take(1)"
   ]
  },
  {
   "cell_type": "code",
   "execution_count": 13,
   "id": "f7465b67",
   "metadata": {},
   "outputs": [],
   "source": [
    "df = rdd.toDF()"
   ]
  },
  {
   "cell_type": "code",
   "execution_count": 17,
   "id": "f3a5349d",
   "metadata": {},
   "outputs": [
    {
     "name": "stdout",
     "output_type": "stream",
     "text": [
      "root\n",
      " |-- _1: date (nullable = true)\n",
      " |-- _2: string (nullable = true)\n",
      "\n"
     ]
    }
   ],
   "source": [
    "df.printSchema()"
   ]
  },
  {
   "cell_type": "code",
   "execution_count": 15,
   "id": "584469de",
   "metadata": {},
   "outputs": [],
   "source": [
    "def get_common_event(record: dict, struct_type : StructType):\n",
    "    \"\"\" Validated event.  NonNull fields must be populated; conversions to correct data formats must succeed\"\"\"\n",
    "    # for each field in\n",
    "    # get the type\n",
    "    # convert the string to type\n",
    "    common_event_row = []\n",
    "    for struct_field in struct_type:\n",
    "        \n",
    "        d = struct_field.jsonValue()\n",
    "        field_name = d['name']\n",
    "        field_type = d['type']\n",
    "        field_nullable = d['nullable']\n",
    "        \n",
    "        # check nullable up front\n",
    "        \n",
    "        if field_type == 'date':\n",
    "            converted_field = date.fromisoformat(record[field_name].strip())\n",
    "                                                                  \n",
    "        elif field_type == 'timestamp':\n",
    "            converted_field = parse(record[field_name].strip())\n",
    "            # converted_field = datetime.fromisoformat(record[field_name].strip())\n",
    "        \n",
    "        elif field_type == 'integer':\n",
    "            converted_field = int(record[field_name].strip())\n",
    "            \n",
    "        elif field_type.startswith('decimal'):\n",
    "            converted_field = Decimal(record[field_name].strip())\n",
    "            \n",
    "        elif field_type == 'string':\n",
    "            converted_field = record[field_name].strip()\n",
    "            \n",
    "        common_event_row.append(converted_field)    \n",
    "        \n",
    "    return common_event_row\n"
   ]
  },
  {
   "cell_type": "code",
   "execution_count": 25,
   "id": "10b2d01d",
   "metadata": {},
   "outputs": [
    {
     "ename": "ValueError",
     "evalue": "Invalid isoformat string: '2021-10-11 '",
     "output_type": "error",
     "traceback": [
      "\u001b[0;31m---------------------------------------------------------------------------\u001b[0m",
      "\u001b[0;31mValueError\u001b[0m                                Traceback (most recent call last)",
      "\u001b[0;32m<ipython-input-25-6bf97cb9bb46>\u001b[0m in \u001b[0;36m<module>\u001b[0;34m\u001b[0m\n\u001b[0;32m----> 1\u001b[0;31m \u001b[0mdate\u001b[0m\u001b[0;34m.\u001b[0m\u001b[0mfromisoformat\u001b[0m\u001b[0;34m(\u001b[0m\u001b[0;34m\"2021-10-11 \"\u001b[0m\u001b[0;34m)\u001b[0m\u001b[0;34m\u001b[0m\u001b[0;34m\u001b[0m\u001b[0m\n\u001b[0m",
      "\u001b[0;31mValueError\u001b[0m: Invalid isoformat string: '2021-10-11 '"
     ]
    }
   ],
   "source": [
    "date.fromisoformat(\"2021-10-11\")"
   ]
  },
  {
   "cell_type": "code",
   "execution_count": 31,
   "id": "68242a17",
   "metadata": {},
   "outputs": [
    {
     "data": {
      "text/plain": [
       "datetime.datetime(2020, 8, 6, 9, 38, 8, 93000)"
      ]
     },
     "execution_count": 31,
     "metadata": {},
     "output_type": "execute_result"
    }
   ],
   "source": [
    "datetime(2020, 8, 6, 9, 38, 8, 93000)"
   ]
  },
  {
   "cell_type": "code",
   "execution_count": 35,
   "id": "788ddd48",
   "metadata": {},
   "outputs": [
    {
     "data": {
      "text/plain": [
       "-77"
      ]
     },
     "execution_count": 35,
     "metadata": {},
     "output_type": "execute_result"
    }
   ],
   "source": [
    "int(\"-77\")"
   ]
  },
  {
   "cell_type": "code",
   "execution_count": null,
   "id": "6b67890e",
   "metadata": {},
   "outputs": [],
   "source": [
    "# 2020-08-05 09:30:00"
   ]
  }
 ],
 "metadata": {
  "kernelspec": {
   "display_name": "Python 3",
   "language": "python",
   "name": "python3"
  },
  "language_info": {
   "codemirror_mode": {
    "name": "ipython",
    "version": 3
   },
   "file_extension": ".py",
   "mimetype": "text/x-python",
   "name": "python",
   "nbconvert_exporter": "python",
   "pygments_lexer": "ipython3",
   "version": "3.8.5"
  }
 },
 "nbformat": 4,
 "nbformat_minor": 5
}
