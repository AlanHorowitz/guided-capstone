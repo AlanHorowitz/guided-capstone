{
 "cells": [
  {
   "cell_type": "code",
   "execution_count": 1,
   "id": "09a332c2",
   "metadata": {},
   "outputs": [],
   "source": [
    "from pyspark.sql import SparkSession\n",
    "import pyspark.sql.functions as f"
   ]
  },
  {
   "cell_type": "code",
   "execution_count": 5,
   "id": "3e025c99",
   "metadata": {},
   "outputs": [],
   "source": [
    "spark = SparkSession.builder.master('local').appName('app').getOrCreate()\n",
    "trade_common = spark.read.parquet(\"output_dir/partition=T\")\n",
    "trade = trade_common.select(\"trade_dt\", \"symbol\", \"exchange\", \"event_tm\", \"event_seq_nb\", \"arrival_tm\", \"trade_pr\")\n"
   ]
  },
  {
   "cell_type": "code",
   "execution_count": 6,
   "id": "f7b6bf2e",
   "metadata": {},
   "outputs": [],
   "source": [
    "trade.createOrReplaceTempView('trade_v')"
   ]
  },
  {
   "cell_type": "code",
   "execution_count": 7,
   "id": "3c7417e1",
   "metadata": {},
   "outputs": [],
   "source": [
    "sql1 = \"\"\"\n",
    "select\n",
    "\n",
    "\"\"\""
   ]
  },
  {
   "cell_type": "code",
   "execution_count": 29,
   "id": "1c842904",
   "metadata": {},
   "outputs": [],
   "source": [
    "sample_data = [ ['aaa', 'aaa', 1],\n",
    "                ['aaa', 'bbb', 3],\n",
    "                ['aaa', 'ccc', 2],  \n",
    "                ['bbb', 'ddd', 3],\n",
    "                ['bbb', 'eee', 2],\n",
    "                ['bbb', 'fff', 1]\n",
    "              ]"
   ]
  },
  {
   "cell_type": "code",
   "execution_count": 30,
   "id": "500e7cdd",
   "metadata": {},
   "outputs": [],
   "source": [
    "rdd = spark.sparkContext.parallelize(sample_data)\n",
    "df = rdd.toDF()"
   ]
  },
  {
   "cell_type": "code",
   "execution_count": 31,
   "id": "83aa8d20",
   "metadata": {},
   "outputs": [
    {
     "name": "stdout",
     "output_type": "stream",
     "text": [
      "+---+---+---+\n",
      "| _1| _2| _3|\n",
      "+---+---+---+\n",
      "|aaa|aaa|  1|\n",
      "|aaa|bbb|  3|\n",
      "|aaa|ccc|  2|\n",
      "|bbb|ddd|  3|\n",
      "|bbb|eee|  2|\n",
      "|bbb|fff|  1|\n",
      "+---+---+---+\n",
      "\n"
     ]
    }
   ],
   "source": [
    "df.show()"
   ]
  },
  {
   "cell_type": "code",
   "execution_count": 32,
   "id": "787fce3a",
   "metadata": {},
   "outputs": [],
   "source": [
    "df.createOrReplaceTempView('df_v')"
   ]
  },
  {
   "cell_type": "code",
   "execution_count": 53,
   "id": "13e7604f",
   "metadata": {},
   "outputs": [
    {
     "name": "stdout",
     "output_type": "stream",
     "text": [
      "+---+---+---+---+\n",
      "| _1|  p| _3|  q|\n",
      "+---+---+---+---+\n",
      "|aaa|bbb|  3|  1|\n",
      "|bbb|ddd|  3|  1|\n",
      "+---+---+---+---+\n",
      "\n"
     ]
    }
   ],
   "source": [
    "spark.sql(\"\"\"\n",
    "select _1, _2 as p, _3,\n",
    "row_number() OVER (Partition by _1 order by _3 desc) as q\n",
    "from df_v\n",
    "\"\"\").filter(f.col('q') == 1).show()"
   ]
  },
  {
   "cell_type": "code",
   "execution_count": null,
   "id": "d4811169",
   "metadata": {},
   "outputs": [],
   "source": []
  }
 ],
 "metadata": {
  "kernelspec": {
   "display_name": "Python 3",
   "language": "python",
   "name": "python3"
  },
  "language_info": {
   "codemirror_mode": {
    "name": "ipython",
    "version": 3
   },
   "file_extension": ".py",
   "mimetype": "text/x-python",
   "name": "python",
   "nbconvert_exporter": "python",
   "pygments_lexer": "ipython3",
   "version": "3.8.5"
  }
 },
 "nbformat": 4,
 "nbformat_minor": 5
}
