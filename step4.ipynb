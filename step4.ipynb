{
 "cells": [
  {
   "cell_type": "code",
   "execution_count": 1,
   "id": "c4480bf2",
   "metadata": {},
   "outputs": [],
   "source": [
    "from pyspark.sql import SparkSession\n",
    "from pyspark.sql.functions import lit\n",
    "from pyspark.sql.types import DecimalType\n",
    "from datetime import date\n",
    "import os"
   ]
  },
  {
   "cell_type": "code",
   "execution_count": 2,
   "id": "fb1be9d0",
   "metadata": {},
   "outputs": [],
   "source": [
    "spark = SparkSession.builder.master('local').appName('guided-capstone').getOrCreate()\n",
    "spark.conf.set(\"spark.sql.shuffle.partitions\", 4)  # avoid unneeded shuffling\n",
    "\n",
    "INPUT_DIRECTORY = \"output_dir\"\n",
    "file_input = 'file://' + os.getcwd() + '/' + INPUT_DIRECTORY \n",
    "\n",
    "trade_common_df = spark.read.parquet(file_input)\n",
    "\n",
    "# create trades table\n",
    "trade_common_df.where(trade_common_df.partition == 'T')\\\n",
    "    .createOrReplaceTempView(\"trades\")\n",
    "\n",
    "# create quotes_extended with null moving average column  \n",
    "\n",
    "trade_common_df.where(trade_common_df.partition == 'Q')\\\n",
    "    .withColumn('mov_avg_trade_pr', lit(None).cast(DecimalType(10, 2)))\\\n",
    "    .createOrReplaceTempView(\"quotes_extended\")"
   ]
  },
  {
   "cell_type": "code",
   "execution_count": 3,
   "id": "862d3ec6",
   "metadata": {},
   "outputs": [],
   "source": [
    "# extend with 30 day moving average column\n",
    "\n",
    "spark.sql(\n",
    "\"\"\"\n",
    "SELECT *, \n",
    "   mean(trade_pr) OVER  \n",
    "   (\n",
    "       PARTITION BY symbol, exchange ORDER BY event_tm\n",
    "       RANGE BETWEEN INTERVAL 30 MINUTES PRECEDING AND CURRENT ROW\n",
    "   ) AS mov_avg_trade_pr \n",
    "FROM trades;\n",
    "\"\"\"\n",
    ").createOrReplaceTempView(\"trades_extended\")"
   ]
  },
  {
   "cell_type": "code",
   "execution_count": 4,
   "id": "7bde3195",
   "metadata": {},
   "outputs": [],
   "source": [
    "# combine two extended tables\n",
    "\n",
    "spark.sql(\n",
    "\"\"\"\n",
    "SELECT * FROM trades_extended\n",
    "UNION\n",
    "SELECT * from quotes_extended\n",
    "\"\"\"\n",
    ").createOrReplaceTempView(\"quotes_trades_extended\")"
   ]
  },
  {
   "cell_type": "code",
   "execution_count": 5,
   "id": "d4181259",
   "metadata": {},
   "outputs": [],
   "source": [
    "# use ignoreNulls option of last function to populate prior trade price and moving average \n",
    "\n",
    "spark.sql(\n",
    "\"\"\"\n",
    "SELECT *,\n",
    "    last(trade_pr, True) OVER \n",
    "        (PARTITION BY symbol, exchange ORDER  BY event_tm) AS prior_trade_pr,\n",
    "    last(mov_avg_trade_pr, True) OVER\n",
    "        (PARTITION BY symbol, exchange ORDER BY event_tm) AS prior_mov_avg_trade_pr\n",
    "FROM quotes_trades_extended;\n",
    "\"\"\"\n",
    ").createOrReplaceTempView(\"quotes_trades_extended\")"
   ]
  },
  {
   "cell_type": "code",
   "execution_count": 6,
   "id": "8a0041b8",
   "metadata": {},
   "outputs": [],
   "source": [
    "# Compute closing trade price from prior day\n",
    "\n",
    "spark.sql(\n",
    "\"\"\"\n",
    "SELECT trade_dt,\n",
    "       symbol, \n",
    "       exchange,\n",
    "       lag(close_trade_pr, 1) OVER \n",
    "           (PARTITION BY symbol, exchange ORDER BY trade_dt) AS prior_close_trade_pr\n",
    "FROM \n",
    "(\n",
    "    SELECT trade_dt,\n",
    "           symbol,\n",
    "           exchange,           \n",
    "           first(trade_pr) OVER \n",
    "               (PARTITION BY symbol, exchange, trade_dt ORDER BY event_tm DESC) \n",
    "               AS close_trade_pr,\n",
    "           row_number() OVER\n",
    "               (PARTITION BY symbol, exchange, trade_dt ORDER BY event_tm DESC) AS row\n",
    "    from trades\n",
    ") a\n",
    "WHERE row = 1;\n",
    "\"\"\"\n",
    ").createOrReplaceTempView(\"prior_day_close\")"
   ]
  },
  {
   "cell_type": "code",
   "execution_count": 7,
   "id": "d146afbf",
   "metadata": {},
   "outputs": [
    {
     "ename": "AnalysisException",
     "evalue": "Partition column `trade_dt` not found in schema struct<symbol:string,exchange:string,event_tm:timestamp,prior_trade_pr:decimal(10,2),prior_mov_avg_trade_pr:decimal(2,0),prior_close_trade_pr:decimal(10,2)>",
     "output_type": "error",
     "traceback": [
      "\u001b[0;31m---------------------------------------------------------------------------\u001b[0m",
      "\u001b[0;31mAnalysisException\u001b[0m                         Traceback (most recent call last)",
      "\u001b[0;32m<ipython-input-7-d827a17ec504>\u001b[0m in \u001b[0;36m<module>\u001b[0;34m\u001b[0m\n\u001b[1;32m      1\u001b[0m \u001b[0;31m# add prior close price, filter out trades, format and write output\u001b[0m\u001b[0;34m\u001b[0m\u001b[0;34m\u001b[0m\u001b[0;34m\u001b[0m\u001b[0m\n\u001b[1;32m      2\u001b[0m \u001b[0;34m\u001b[0m\u001b[0m\n\u001b[0;32m----> 3\u001b[0;31m spark.sql(\n\u001b[0m\u001b[1;32m      4\u001b[0m \"\"\"\n\u001b[1;32m      5\u001b[0m \u001b[0mSELECT\u001b[0m \u001b[0;34m/\u001b[0m\u001b[0;34m*\u001b[0m\u001b[0;34m+\u001b[0m \u001b[0mBROADCAST\u001b[0m\u001b[0;34m(\u001b[0m\u001b[0mb\u001b[0m\u001b[0;34m)\u001b[0m \u001b[0;34m*\u001b[0m\u001b[0;34m/\u001b[0m\u001b[0;34m\u001b[0m\u001b[0;34m\u001b[0m\u001b[0m\n",
      "\u001b[0;32m~/.local/share/virtualenvs/guided-capstone-WVET3RpX/lib/python3.8/site-packages/pyspark/sql/readwriter.py\u001b[0m in \u001b[0;36mparquet\u001b[0;34m(self, path, mode, partitionBy, compression)\u001b[0m\n\u001b[1;32m   1248\u001b[0m             \u001b[0mself\u001b[0m\u001b[0;34m.\u001b[0m\u001b[0mpartitionBy\u001b[0m\u001b[0;34m(\u001b[0m\u001b[0mpartitionBy\u001b[0m\u001b[0;34m)\u001b[0m\u001b[0;34m\u001b[0m\u001b[0;34m\u001b[0m\u001b[0m\n\u001b[1;32m   1249\u001b[0m         \u001b[0mself\u001b[0m\u001b[0;34m.\u001b[0m\u001b[0m_set_opts\u001b[0m\u001b[0;34m(\u001b[0m\u001b[0mcompression\u001b[0m\u001b[0;34m=\u001b[0m\u001b[0mcompression\u001b[0m\u001b[0;34m)\u001b[0m\u001b[0;34m\u001b[0m\u001b[0;34m\u001b[0m\u001b[0m\n\u001b[0;32m-> 1250\u001b[0;31m         \u001b[0mself\u001b[0m\u001b[0;34m.\u001b[0m\u001b[0m_jwrite\u001b[0m\u001b[0;34m.\u001b[0m\u001b[0mparquet\u001b[0m\u001b[0;34m(\u001b[0m\u001b[0mpath\u001b[0m\u001b[0;34m)\u001b[0m\u001b[0;34m\u001b[0m\u001b[0;34m\u001b[0m\u001b[0m\n\u001b[0m\u001b[1;32m   1251\u001b[0m \u001b[0;34m\u001b[0m\u001b[0m\n\u001b[1;32m   1252\u001b[0m     \u001b[0;32mdef\u001b[0m \u001b[0mtext\u001b[0m\u001b[0;34m(\u001b[0m\u001b[0mself\u001b[0m\u001b[0;34m,\u001b[0m \u001b[0mpath\u001b[0m\u001b[0;34m,\u001b[0m \u001b[0mcompression\u001b[0m\u001b[0;34m=\u001b[0m\u001b[0;32mNone\u001b[0m\u001b[0;34m,\u001b[0m \u001b[0mlineSep\u001b[0m\u001b[0;34m=\u001b[0m\u001b[0;32mNone\u001b[0m\u001b[0;34m)\u001b[0m\u001b[0;34m:\u001b[0m\u001b[0;34m\u001b[0m\u001b[0;34m\u001b[0m\u001b[0m\n",
      "\u001b[0;32m~/.local/share/virtualenvs/guided-capstone-WVET3RpX/lib/python3.8/site-packages/py4j/java_gateway.py\u001b[0m in \u001b[0;36m__call__\u001b[0;34m(self, *args)\u001b[0m\n\u001b[1;32m   1302\u001b[0m \u001b[0;34m\u001b[0m\u001b[0m\n\u001b[1;32m   1303\u001b[0m         \u001b[0manswer\u001b[0m \u001b[0;34m=\u001b[0m \u001b[0mself\u001b[0m\u001b[0;34m.\u001b[0m\u001b[0mgateway_client\u001b[0m\u001b[0;34m.\u001b[0m\u001b[0msend_command\u001b[0m\u001b[0;34m(\u001b[0m\u001b[0mcommand\u001b[0m\u001b[0;34m)\u001b[0m\u001b[0;34m\u001b[0m\u001b[0;34m\u001b[0m\u001b[0m\n\u001b[0;32m-> 1304\u001b[0;31m         return_value = get_return_value(\n\u001b[0m\u001b[1;32m   1305\u001b[0m             answer, self.gateway_client, self.target_id, self.name)\n\u001b[1;32m   1306\u001b[0m \u001b[0;34m\u001b[0m\u001b[0m\n",
      "\u001b[0;32m~/.local/share/virtualenvs/guided-capstone-WVET3RpX/lib/python3.8/site-packages/pyspark/sql/utils.py\u001b[0m in \u001b[0;36mdeco\u001b[0;34m(*a, **kw)\u001b[0m\n\u001b[1;32m    115\u001b[0m                 \u001b[0;31m# Hide where the exception came from that shows a non-Pythonic\u001b[0m\u001b[0;34m\u001b[0m\u001b[0;34m\u001b[0m\u001b[0;34m\u001b[0m\u001b[0m\n\u001b[1;32m    116\u001b[0m                 \u001b[0;31m# JVM exception message.\u001b[0m\u001b[0;34m\u001b[0m\u001b[0;34m\u001b[0m\u001b[0;34m\u001b[0m\u001b[0m\n\u001b[0;32m--> 117\u001b[0;31m                 \u001b[0;32mraise\u001b[0m \u001b[0mconverted\u001b[0m \u001b[0;32mfrom\u001b[0m \u001b[0;32mNone\u001b[0m\u001b[0;34m\u001b[0m\u001b[0;34m\u001b[0m\u001b[0m\n\u001b[0m\u001b[1;32m    118\u001b[0m             \u001b[0;32melse\u001b[0m\u001b[0;34m:\u001b[0m\u001b[0;34m\u001b[0m\u001b[0;34m\u001b[0m\u001b[0m\n\u001b[1;32m    119\u001b[0m                 \u001b[0;32mraise\u001b[0m\u001b[0;34m\u001b[0m\u001b[0;34m\u001b[0m\u001b[0m\n",
      "\u001b[0;31mAnalysisException\u001b[0m: Partition column `trade_dt` not found in schema struct<symbol:string,exchange:string,event_tm:timestamp,prior_trade_pr:decimal(10,2),prior_mov_avg_trade_pr:decimal(2,0),prior_close_trade_pr:decimal(10,2)>"
     ]
    }
   ],
   "source": [
    "# add prior close price, filter out trades, format and write output\n",
    "\n",
    "spark.sql(\n",
    "\"\"\"\n",
    "SELECT /*+ BROADCAST(b) */  a.\n",
    "       a.symbol, \n",
    "       a.exchange, \n",
    "       a.event_tm, \n",
    "       a.prior_trade_pr, \n",
    "       cast(a.prior_mov_avg_trade_pr as decimal(2)),\n",
    "       b.prior_close_trade_pr \n",
    "FROM quotes_trades_extended a\n",
    "JOIN prior_day_close b \n",
    "WHERE\n",
    "    a.trade_dt = b.trade_dt AND\n",
    "    a.symbol = b.symbol AND\n",
    "    a.exchange = b.exchange AND\n",
    "    rec_type = 'Q'\n",
    "ORDER BY symbol, exchange, event_tm;\n",
    "\"\"\"\n",
    ").write.partitionBy('trade_dt').mode('overwrite').parquet('test_output_dir')"
   ]
  },
  {
   "cell_type": "code",
   "execution_count": null,
   "id": "271587f7",
   "metadata": {},
   "outputs": [],
   "source": [
    "final_df = spark.sql(\n",
    "\"\"\"\n",
    "SELECT /*+ BROADCAST(b) */ \n",
    "       a.symbol, \n",
    "       a.exchange, \n",
    "       a.event_tm, \n",
    "       a.prior_trade_pr, \n",
    "       cast(a.prior_mov_avg_trade_pr as decimal(10,2)),\n",
    "       b.prior_close_trade_pr \n",
    "FROM quotes_trades_extended a\n",
    "JOIN prior_day_close b \n",
    "WHERE\n",
    "    a.trade_dt = b.trade_dt AND\n",
    "    a.symbol = b.symbol AND\n",
    "    a.exchange = b.exchange AND\n",
    "    rec_type = 'Q'\n",
    "ORDER BY symbol, exchange, event_tm;\n",
    "\"\"\"\n",
    ")"
   ]
  },
  {
   "cell_type": "code",
   "execution_count": null,
   "id": "c20da108",
   "metadata": {},
   "outputs": [],
   "source": [
    "final_df.show(500, False)"
   ]
  },
  {
   "cell_type": "code",
   "execution_count": null,
   "id": "145ad25f",
   "metadata": {},
   "outputs": [],
   "source": [
    "spark.conf.set(\"spark.sql.shuffle.partitions\", 4)  # avoid unneeded shuffling\n",
    "\n",
    "cloud_storage_path = \"wasbs://test@guidedcapstonesa.blob.core.windows.net\"\n",
    "# trade_common_df = spark.read.parquet(f\"{cloud_storage_path}/trade\")\n"
   ]
  },
  {
   "cell_type": "code",
   "execution_count": null,
   "id": "77720168",
   "metadata": {},
   "outputs": [],
   "source": [
    "final_df.printSchema()"
   ]
  },
  {
   "cell_type": "code",
   "execution_count": null,
   "id": "a1af7782",
   "metadata": {},
   "outputs": [],
   "source": []
  }
 ],
 "metadata": {
  "kernelspec": {
   "display_name": "Python 3",
   "language": "python",
   "name": "python3"
  },
  "language_info": {
   "codemirror_mode": {
    "name": "ipython",
    "version": 3
   },
   "file_extension": ".py",
   "mimetype": "text/x-python",
   "name": "python",
   "nbconvert_exporter": "python",
   "pygments_lexer": "ipython3",
   "version": "3.8.10"
  }
 },
 "nbformat": 4,
 "nbformat_minor": 5
}
