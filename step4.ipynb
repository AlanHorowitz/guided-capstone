{
 "cells": [
  {
   "cell_type": "code",
   "execution_count": 1,
   "id": "b5d4b6d0",
   "metadata": {},
   "outputs": [],
   "source": [
    "from pyspark.sql import SparkSession\n",
    "from datetime import date\n",
    "import os"
   ]
  },
  {
   "cell_type": "code",
   "execution_count": 12,
   "id": "30c57b12",
   "metadata": {},
   "outputs": [],
   "source": [
    "spark = SparkSession.builder.master('local').appName('app').getOrCreate()\n",
    "#spark.conf.set(\"spark.sql.shuffle.partitions\", 5)  # avoid unneeded shuffling\n",
    "\n",
    "cloud_storage_path = \"wasbs://test@guidedcapstonesa.blob.core.windows.net\"\n",
    "# trade_common_df = spark.read.parquet(f\"{cloud_storage_path}/trade\")\n",
    "\n",
    "INPUT_DIRECTORY = \"output_dir\"\n",
    "file_input = 'file://' + os.getcwd() + '/' + INPUT_DIRECTORY \n",
    "trade_common_df = spark.read.parquet(file_input)\n",
    "trade_common_df.where(trade_common_df.partition == 'T')\\\n",
    ".createOrReplaceTempView(\"trades\")"
   ]
  },
  {
   "cell_type": "code",
   "execution_count": 45,
   "id": "1c718510",
   "metadata": {},
   "outputs": [
    {
     "name": "stdout",
     "output_type": "stream",
     "text": [
      "+----------+------+--------+--------------+--------------------+\n",
      "|trade_dt  |symbol|exchange|trade_pr_close|trade_pr_close_prior|\n",
      "+----------+------+--------+--------------+--------------------+\n",
      "|2020-08-05|SYMC  |NYSE    |160.62        |null                |\n",
      "|2020-08-06|SYMC  |NYSE    |159.38        |160.62              |\n",
      "|2020-08-05|SYMB  |NYSE    |33.96         |null                |\n",
      "|2020-08-06|SYMB  |NYSE    |35.92         |33.96               |\n",
      "|2020-08-05|SYMC  |NASDAQ  |158.02        |null                |\n",
      "|2020-08-06|SYMC  |NASDAQ  |156.84        |158.02              |\n",
      "|2020-08-05|SYMA  |NASDAQ  |77.25         |null                |\n",
      "|2020-08-06|SYMA  |NASDAQ  |77.44         |77.25               |\n",
      "|2020-08-05|SYMA  |NYSE    |77.79         |null                |\n",
      "|2020-08-06|SYMA  |NYSE    |76.31         |77.79               |\n",
      "|2020-08-05|SYMB  |NASDAQ  |35.54         |null                |\n",
      "|2020-08-06|SYMB  |NASDAQ  |35.75         |35.54               |\n",
      "+----------+------+--------+--------------+--------------------+\n",
      "\n"
     ]
    },
    {
     "ename": "AttributeError",
     "evalue": "'NoneType' object has no attribute 'createOrReplaceTempView'",
     "output_type": "error",
     "traceback": [
      "\u001b[0;31m---------------------------------------------------------------------------\u001b[0m",
      "\u001b[0;31mAttributeError\u001b[0m                            Traceback (most recent call last)",
      "\u001b[0;32m<ipython-input-45-c181e5b15803>\u001b[0m in \u001b[0;36m<module>\u001b[0;34m\u001b[0m\n\u001b[1;32m     34\u001b[0m \u001b[0;34m\u001b[0m\u001b[0m\n\u001b[1;32m     35\u001b[0m \u001b[0;34m\u001b[0m\u001b[0m\n\u001b[0;32m---> 36\u001b[0;31m \u001b[0mspark\u001b[0m\u001b[0;34m.\u001b[0m\u001b[0msql\u001b[0m\u001b[0;34m(\u001b[0m\u001b[0msql4\u001b[0m\u001b[0;34m)\u001b[0m\u001b[0;34m.\u001b[0m\u001b[0mshow\u001b[0m\u001b[0;34m(\u001b[0m\u001b[0;36m120\u001b[0m\u001b[0;34m,\u001b[0m \u001b[0mtruncate\u001b[0m\u001b[0;34m=\u001b[0m\u001b[0;32mFalse\u001b[0m\u001b[0;34m)\u001b[0m\u001b[0;34m.\u001b[0m\u001b[0mcreateOrReplaceTempView\u001b[0m\u001b[0;34m(\u001b[0m\u001b[0;34m\"temp_close\"\u001b[0m\u001b[0;34m)\u001b[0m\u001b[0;34m\u001b[0m\u001b[0;34m\u001b[0m\u001b[0m\n\u001b[0m",
      "\u001b[0;31mAttributeError\u001b[0m: 'NoneType' object has no attribute 'createOrReplaceTempView'"
     ]
    }
   ],
   "source": [
    "sql1 = \"\"\"\n",
    "SELECT trade_dt, symbol, exchange, trade_pr from trades LIMIT 5;\n",
    "\"\"\"\n",
    "\n",
    "sql2 = \"\"\"\n",
    "SELECT trade_dt, symbol, exchange, event_tm, trade_pr,\n",
    "LAG(trade_pr, 1) OVER (partition by symbol, exchange order by event_tm) as trade_pr_prior\n",
    "from trades;\n",
    "\"\"\"\n",
    "\n",
    "sql3 = \"\"\"\n",
    "SELECT trade_dt, symbol, exchange, event_tm, trade_pr, \n",
    "mean(trade_pr) OVER  \n",
    "(partition by symbol, exchange order by event_tm\n",
    "RANGE BETWEEN INTERVAL 30 MINUTES PRECEDING AND CURRENT ROW)\n",
    "as trade_pr_prior_30ma FROM trades;\n",
    "\"\"\"\n",
    "\n",
    "sql4 = \"\"\"\n",
    "\n",
    "SELECT trade_dt, symbol, exchange, trade_pr_close,\n",
    "lag(trade_pr_close,1) OVER (partition by symbol, exchange order by trade_dt) as trade_pr_close_prior\n",
    "from \n",
    "(\n",
    "    SELECT trade_dt, symbol, exchange, event_tm, trade_pr,\n",
    "    nth_value(trade_pr,1) OVER (partition by symbol, exchange, trade_dt order by event_tm desc) as trade_pr_close,\n",
    "    row_number() OVER (partition by symbol, exchange, trade_dt order by event_tm desc) as row\n",
    "    from trades\n",
    ") a\n",
    "\n",
    "WHERE row = 1\n",
    "ORDER BY trade_dt, symbol, exchange;\n",
    "\"\"\"\n",
    "\n",
    "\n",
    "\n",
    "spark.sql(sql4).show(120, truncate=False).createOrReplaceTempView(\"temp_close\")"
   ]
  },
  {
   "cell_type": "code",
   "execution_count": 22,
   "id": "90e2f5f9",
   "metadata": {},
   "outputs": [
    {
     "name": "stdout",
     "output_type": "stream",
     "text": [
      "+----------+--------+------+--------+-----------------------+------------+-------------------+--------+------+--------+------+--------+----+---------+\n",
      "|trade_dt  |rec_type|symbol|exchange|event_tm               |event_seq_nb|arrival_tm         |trade_pr|bid_pr|bid_size|ask_pr|ask_size|line|partition|\n",
      "+----------+--------+------+--------+-----------------------+------------+-------------------+--------+------+--------+------+--------+----+---------+\n",
      "|2020-08-06|T       |SYMA  |NASDAQ  |2020-08-06 10:42:21.079|10          |2020-08-06 09:30:00|78.93   |null  |null    |null  |null    |null|T        |\n",
      "|2020-08-06|T       |SYMA  |NASDAQ  |2020-08-06 12:00:29.595|20          |2020-08-06 09:30:00|77.10   |null  |null    |null  |null    |null|T        |\n",
      "|2020-08-06|T       |SYMA  |NASDAQ  |2020-08-06 13:09:29.883|30          |2020-08-06 09:30:00|78.31   |null  |null    |null  |null    |null|T        |\n",
      "|2020-08-06|T       |SYMA  |NASDAQ  |2020-08-06 14:27:08.62 |40          |2020-08-06 09:30:00|75.84   |null  |null    |null  |null    |null|T        |\n",
      "|2020-08-06|T       |SYMA  |NASDAQ  |2020-08-06 15:39:00.929|50          |2020-08-06 09:30:00|77.63   |null  |null    |null  |null    |null|T        |\n",
      "|2020-08-06|T       |SYMA  |NASDAQ  |2020-08-06 16:43:23.372|60          |2020-08-06 09:30:00|77.57   |null  |null    |null  |null    |null|T        |\n",
      "|2020-08-06|T       |SYMA  |NASDAQ  |2020-08-06 18:01:33.234|70          |2020-08-06 09:30:00|76.98   |null  |null    |null  |null    |null|T        |\n",
      "|2020-08-06|T       |SYMA  |NASDAQ  |2020-08-06 19:09:38.472|80          |2020-08-06 09:30:00|78.62   |null  |null    |null  |null    |null|T        |\n",
      "|2020-08-06|T       |SYMA  |NASDAQ  |2020-08-06 20:23:01.854|90          |2020-08-06 09:30:00|77.82   |null  |null    |null  |null    |null|T        |\n",
      "|2020-08-06|T       |SYMA  |NASDAQ  |2020-08-06 21:33:38.812|100         |2020-08-06 09:30:00|77.44   |null  |null    |null  |null    |null|T        |\n",
      "|2020-08-06|T       |SYMB  |NASDAQ  |2020-08-06 10:47:40.723|10          |2020-08-06 09:30:00|32.27   |null  |null    |null  |null    |null|T        |\n",
      "|2020-08-06|T       |SYMB  |NASDAQ  |2020-08-06 12:01:17.057|20          |2020-08-06 09:30:00|32.47   |null  |null    |null  |null    |null|T        |\n",
      "|2020-08-06|T       |SYMB  |NASDAQ  |2020-08-06 13:04:46.462|30          |2020-08-06 09:30:00|36.70   |null  |null    |null  |null    |null|T        |\n",
      "|2020-08-06|T       |SYMB  |NASDAQ  |2020-08-06 14:15:00.048|40          |2020-08-06 09:30:00|31.89   |null  |null    |null  |null    |null|T        |\n",
      "|2020-08-06|T       |SYMB  |NASDAQ  |2020-08-06 15:20:27.248|50          |2020-08-06 09:30:00|33.08   |null  |null    |null  |null    |null|T        |\n",
      "|2020-08-06|T       |SYMB  |NASDAQ  |2020-08-06 16:25:41.803|60          |2020-08-06 09:30:00|34.93   |null  |null    |null  |null    |null|T        |\n",
      "|2020-08-06|T       |SYMB  |NASDAQ  |2020-08-06 17:38:16.714|70          |2020-08-06 09:30:00|35.86   |null  |null    |null  |null    |null|T        |\n",
      "|2020-08-06|T       |SYMB  |NASDAQ  |2020-08-06 18:51:11.684|80          |2020-08-06 09:30:00|32.23   |null  |null    |null  |null    |null|T        |\n",
      "|2020-08-06|T       |SYMB  |NASDAQ  |2020-08-06 20:07:29.814|90          |2020-08-06 09:30:00|36.24   |null  |null    |null  |null    |null|T        |\n",
      "|2020-08-06|T       |SYMB  |NASDAQ  |2020-08-06 21:10:47.436|100         |2020-08-06 09:30:00|35.75   |null  |null    |null  |null    |null|T        |\n",
      "|2020-08-06|T       |SYMC  |NASDAQ  |2020-08-06 10:44:32.704|10          |2020-08-06 09:30:00|158.82  |null  |null    |null  |null    |null|T        |\n",
      "|2020-08-06|T       |SYMC  |NASDAQ  |2020-08-06 11:54:16.544|20          |2020-08-06 09:30:00|160.78  |null  |null    |null  |null    |null|T        |\n",
      "|2020-08-06|T       |SYMC  |NASDAQ  |2020-08-06 13:07:41.026|30          |2020-08-06 09:30:00|160.13  |null  |null    |null  |null    |null|T        |\n",
      "|2020-08-06|T       |SYMC  |NASDAQ  |2020-08-06 14:15:39.597|40          |2020-08-06 09:30:00|157.14  |null  |null    |null  |null    |null|T        |\n",
      "|2020-08-06|T       |SYMC  |NASDAQ  |2020-08-06 15:30:25.477|50          |2020-08-06 09:30:00|160.83  |null  |null    |null  |null    |null|T        |\n",
      "|2020-08-06|T       |SYMC  |NASDAQ  |2020-08-06 16:45:08.367|60          |2020-08-06 09:30:00|159.02  |null  |null    |null  |null    |null|T        |\n",
      "|2020-08-06|T       |SYMC  |NASDAQ  |2020-08-06 17:51:11.232|70          |2020-08-06 09:30:00|161.16  |null  |null    |null  |null    |null|T        |\n",
      "|2020-08-06|T       |SYMC  |NASDAQ  |2020-08-06 18:59:56.853|80          |2020-08-06 09:30:00|159.07  |null  |null    |null  |null    |null|T        |\n",
      "|2020-08-06|T       |SYMC  |NASDAQ  |2020-08-06 20:09:39.052|90          |2020-08-06 09:30:00|160.98  |null  |null    |null  |null    |null|T        |\n",
      "|2020-08-06|T       |SYMC  |NASDAQ  |2020-08-06 21:17:25.463|100         |2020-08-06 09:30:00|156.84  |null  |null    |null  |null    |null|T        |\n",
      "|2020-08-05|T       |SYMA  |NASDAQ  |2020-08-05 10:38:50.046|10          |2020-08-05 09:30:00|77.78   |null  |null    |null  |null    |null|T        |\n",
      "|2020-08-05|T       |SYMA  |NASDAQ  |2020-08-05 11:58:33.106|20          |2020-08-05 09:30:00|75.72   |null  |null    |null  |null    |null|T        |\n",
      "|2020-08-05|T       |SYMA  |NASDAQ  |2020-08-05 13:09:24.38 |30          |2020-08-05 09:30:00|75.88   |null  |null    |null  |null    |null|T        |\n",
      "|2020-08-05|T       |SYMA  |NASDAQ  |2020-08-05 14:22:41.39 |40          |2020-08-05 09:30:00|78.32   |null  |null    |null  |null    |null|T        |\n",
      "|2020-08-05|T       |SYMA  |NASDAQ  |2020-08-05 15:33:58.825|50          |2020-08-05 09:30:00|75.73   |null  |null    |null  |null    |null|T        |\n",
      "|2020-08-05|T       |SYMA  |NASDAQ  |2020-08-05 16:46:43.764|60          |2020-08-05 09:30:00|77.48   |null  |null    |null  |null    |null|T        |\n",
      "|2020-08-05|T       |SYMA  |NASDAQ  |2020-08-05 17:58:10.324|70          |2020-08-05 09:30:00|74.91   |null  |null    |null  |null    |null|T        |\n",
      "|2020-08-05|T       |SYMA  |NASDAQ  |2020-08-05 19:13:26.116|80          |2020-08-05 09:30:00|77.69   |null  |null    |null  |null    |null|T        |\n",
      "|2020-08-05|T       |SYMA  |NASDAQ  |2020-08-05 20:26:46.538|90          |2020-08-05 09:30:00|76.16   |null  |null    |null  |null    |null|T        |\n",
      "|2020-08-05|T       |SYMA  |NASDAQ  |2020-08-05 21:40:23.197|100         |2020-08-05 09:30:00|77.25   |null  |null    |null  |null    |null|T        |\n",
      "|2020-08-05|T       |SYMB  |NASDAQ  |2020-08-05 10:40:49.252|10          |2020-08-05 09:30:00|32.15   |null  |null    |null  |null    |null|T        |\n",
      "|2020-08-05|T       |SYMB  |NASDAQ  |2020-08-05 11:51:17.343|20          |2020-08-05 09:30:00|32.66   |null  |null    |null  |null    |null|T        |\n",
      "|2020-08-05|T       |SYMB  |NASDAQ  |2020-08-05 13:03:51.427|30          |2020-08-05 09:30:00|33.89   |null  |null    |null  |null    |null|T        |\n",
      "|2020-08-05|T       |SYMB  |NASDAQ  |2020-08-05 14:14:04.486|40          |2020-08-05 09:30:00|32.26   |null  |null    |null  |null    |null|T        |\n",
      "|2020-08-05|T       |SYMB  |NASDAQ  |2020-08-05 15:20:43.43 |50          |2020-08-05 09:30:00|32.18   |null  |null    |null  |null    |null|T        |\n",
      "|2020-08-05|T       |SYMB  |NASDAQ  |2020-08-05 16:29:56.837|60          |2020-08-05 09:30:00|34.87   |null  |null    |null  |null    |null|T        |\n",
      "|2020-08-05|T       |SYMB  |NASDAQ  |2020-08-05 17:42:00.878|70          |2020-08-05 09:30:00|36.29   |null  |null    |null  |null    |null|T        |\n",
      "|2020-08-05|T       |SYMB  |NASDAQ  |2020-08-05 18:56:18.696|80          |2020-08-05 09:30:00|35.61   |null  |null    |null  |null    |null|T        |\n",
      "|2020-08-05|T       |SYMB  |NASDAQ  |2020-08-05 20:04:43.324|90          |2020-08-05 09:30:00|36.75   |null  |null    |null  |null    |null|T        |\n",
      "|2020-08-05|T       |SYMB  |NASDAQ  |2020-08-05 21:03:26.585|100         |2020-08-05 09:30:00|35.54   |null  |null    |null  |null    |null|T        |\n",
      "|2020-08-05|T       |SYMC  |NASDAQ  |2020-08-05 10:47:33.415|10          |2020-08-05 09:30:00|159.57  |null  |null    |null  |null    |null|T        |\n",
      "|2020-08-05|T       |SYMC  |NASDAQ  |2020-08-05 12:00:15.362|20          |2020-08-05 09:30:00|159.83  |null  |null    |null  |null    |null|T        |\n",
      "|2020-08-05|T       |SYMC  |NASDAQ  |2020-08-05 13:13:16.155|30          |2020-08-05 09:30:00|157.85  |null  |null    |null  |null    |null|T        |\n",
      "|2020-08-05|T       |SYMC  |NASDAQ  |2020-08-05 14:36:51.222|40          |2020-08-05 09:30:00|158.63  |null  |null    |null  |null    |null|T        |\n",
      "|2020-08-05|T       |SYMC  |NASDAQ  |2020-08-05 15:49:28.981|50          |2020-08-05 09:30:00|157.07  |null  |null    |null  |null    |null|T        |\n",
      "|2020-08-05|T       |SYMC  |NASDAQ  |2020-08-05 17:02:58.71 |60          |2020-08-05 09:30:00|160.45  |null  |null    |null  |null    |null|T        |\n",
      "|2020-08-05|T       |SYMC  |NASDAQ  |2020-08-05 18:15:15.631|70          |2020-08-05 09:30:00|157.73  |null  |null    |null  |null    |null|T        |\n",
      "|2020-08-05|T       |SYMC  |NASDAQ  |2020-08-05 19:19:12.991|80          |2020-08-05 09:30:00|157.89  |null  |null    |null  |null    |null|T        |\n",
      "|2020-08-05|T       |SYMC  |NASDAQ  |2020-08-05 20:33:35.285|90          |2020-08-05 09:30:00|156.86  |null  |null    |null  |null    |null|T        |\n",
      "|2020-08-05|T       |SYMC  |NASDAQ  |2020-08-05 21:49:28.543|100         |2020-08-05 09:30:00|158.02  |null  |null    |null  |null    |null|T        |\n",
      "|2020-08-06|T       |SYMA  |NYSE    |2020-08-06 10:49:37.345|10          |2020-08-06 09:30:00|74.49   |null  |null    |null  |null    |null|T        |\n",
      "|2020-08-06|T       |SYMA  |NYSE    |2020-08-06 12:00:11.545|20          |2020-08-06 09:30:00|76.16   |null  |null    |null  |null    |null|T        |\n",
      "|2020-08-06|T       |SYMA  |NYSE    |2020-08-06 13:11:57.308|30          |2020-08-06 09:30:00|76.90   |null  |null    |null  |null    |null|T        |\n",
      "|2020-08-06|T       |SYMA  |NYSE    |2020-08-06 14:27:13.014|40          |2020-08-06 09:30:00|77.12   |null  |null    |null  |null    |null|T        |\n",
      "|2020-08-06|T       |SYMA  |NYSE    |2020-08-06 15:39:08.521|50          |2020-08-06 09:30:00|76.37   |null  |null    |null  |null    |null|T        |\n",
      "|2020-08-06|T       |SYMA  |NYSE    |2020-08-06 16:58:58.633|60          |2020-08-06 09:30:00|78.32   |null  |null    |null  |null    |null|T        |\n",
      "|2020-08-06|T       |SYMA  |NYSE    |2020-08-06 18:14:28.899|70          |2020-08-06 09:30:00|78.23   |null  |null    |null  |null    |null|T        |\n",
      "|2020-08-06|T       |SYMA  |NYSE    |2020-08-06 19:28:22.629|80          |2020-08-06 09:30:00|76.53   |null  |null    |null  |null    |null|T        |\n",
      "|2020-08-06|T       |SYMA  |NYSE    |2020-08-06 20:49:10.946|90          |2020-08-06 09:30:00|75.71   |null  |null    |null  |null    |null|T        |\n",
      "|2020-08-06|T       |SYMA  |NYSE    |2020-08-06 22:00:18.406|100         |2020-08-06 09:30:00|76.31   |null  |null    |null  |null    |null|T        |\n",
      "|2020-08-06|T       |SYMB  |NYSE    |2020-08-06 10:45:42.992|10          |2020-08-06 09:30:00|33.86   |null  |null    |null  |null    |null|T        |\n",
      "|2020-08-06|T       |SYMB  |NYSE    |2020-08-06 12:01:40.839|20          |2020-08-06 09:30:00|32.93   |null  |null    |null  |null    |null|T        |\n",
      "|2020-08-06|T       |SYMB  |NYSE    |2020-08-06 13:13:27.041|30          |2020-08-06 09:30:00|33.69   |null  |null    |null  |null    |null|T        |\n",
      "|2020-08-06|T       |SYMB  |NYSE    |2020-08-06 14:29:42.34 |40          |2020-08-06 09:30:00|35.07   |null  |null    |null  |null    |null|T        |\n",
      "|2020-08-06|T       |SYMB  |NYSE    |2020-08-06 15:46:21.701|50          |2020-08-06 09:30:00|34.83   |null  |null    |null  |null    |null|T        |\n",
      "|2020-08-06|T       |SYMB  |NYSE    |2020-08-06 16:57:15.217|60          |2020-08-06 09:30:00|33.32   |null  |null    |null  |null    |null|T        |\n",
      "|2020-08-06|T       |SYMB  |NYSE    |2020-08-06 18:06:29.531|70          |2020-08-06 09:30:00|33.57   |null  |null    |null  |null    |null|T        |\n",
      "|2020-08-06|T       |SYMB  |NYSE    |2020-08-06 19:21:50.111|80          |2020-08-06 09:30:00|33.11   |null  |null    |null  |null    |null|T        |\n",
      "|2020-08-06|T       |SYMB  |NYSE    |2020-08-06 20:36:05.757|90          |2020-08-06 09:30:00|32.64   |null  |null    |null  |null    |null|T        |\n",
      "|2020-08-06|T       |SYMB  |NYSE    |2020-08-06 21:46:00.523|100         |2020-08-06 09:30:00|35.92   |null  |null    |null  |null    |null|T        |\n",
      "|2020-08-06|T       |SYMC  |NYSE    |2020-08-06 10:42:42.097|10          |2020-08-06 09:30:00|157.27  |null  |null    |null  |null    |null|T        |\n",
      "|2020-08-06|T       |SYMC  |NYSE    |2020-08-06 11:52:31.939|20          |2020-08-06 09:30:00|160.15  |null  |null    |null  |null    |null|T        |\n",
      "|2020-08-06|T       |SYMC  |NYSE    |2020-08-06 13:01:59.806|30          |2020-08-06 09:30:00|158.06  |null  |null    |null  |null    |null|T        |\n",
      "|2020-08-06|T       |SYMC  |NYSE    |2020-08-06 14:15:55.659|40          |2020-08-06 09:30:00|161.48  |null  |null    |null  |null    |null|T        |\n",
      "|2020-08-06|T       |SYMC  |NYSE    |2020-08-06 15:18:36.925|50          |2020-08-06 09:30:00|158.36  |null  |null    |null  |null    |null|T        |\n",
      "|2020-08-06|T       |SYMC  |NYSE    |2020-08-06 16:24:51.731|60          |2020-08-06 09:30:00|161.57  |null  |null    |null  |null    |null|T        |\n",
      "|2020-08-06|T       |SYMC  |NYSE    |2020-08-06 17:37:57.479|70          |2020-08-06 09:30:00|161.37  |null  |null    |null  |null    |null|T        |\n",
      "|2020-08-06|T       |SYMC  |NYSE    |2020-08-06 19:00:52.082|80          |2020-08-06 09:30:00|159.15  |null  |null    |null  |null    |null|T        |\n",
      "|2020-08-06|T       |SYMC  |NYSE    |2020-08-06 20:14:21.737|90          |2020-08-06 09:30:00|157.63  |null  |null    |null  |null    |null|T        |\n",
      "|2020-08-06|T       |SYMC  |NYSE    |2020-08-06 21:32:57.735|100         |2020-08-06 09:30:00|159.38  |null  |null    |null  |null    |null|T        |\n",
      "|2020-08-05|T       |SYMA  |NYSE    |2020-08-05 10:37:21.581|10          |2020-08-05 09:30:00|79.19   |null  |null    |null  |null    |null|T        |\n",
      "|2020-08-05|T       |SYMA  |NYSE    |2020-08-05 11:56:13.086|20          |2020-08-05 09:30:00|76.49   |null  |null    |null  |null    |null|T        |\n",
      "|2020-08-05|T       |SYMA  |NYSE    |2020-08-05 13:09:12.493|30          |2020-08-05 09:30:00|75.05   |null  |null    |null  |null    |null|T        |\n",
      "|2020-08-05|T       |SYMA  |NYSE    |2020-08-05 14:24:34.33 |40          |2020-08-05 09:30:00|78.43   |null  |null    |null  |null    |null|T        |\n",
      "|2020-08-05|T       |SYMA  |NYSE    |2020-08-05 15:31:56.932|50          |2020-08-05 09:30:00|78.15   |null  |null    |null  |null    |null|T        |\n",
      "|2020-08-05|T       |SYMA  |NYSE    |2020-08-05 16:37:06.676|60          |2020-08-05 09:30:00|79.19   |null  |null    |null  |null    |null|T        |\n",
      "|2020-08-05|T       |SYMA  |NYSE    |2020-08-05 17:49:22.23 |70          |2020-08-05 09:30:00|77.07   |null  |null    |null  |null    |null|T        |\n",
      "|2020-08-05|T       |SYMA  |NYSE    |2020-08-05 19:04:45.677|80          |2020-08-05 09:30:00|75.48   |null  |null    |null  |null    |null|T        |\n",
      "|2020-08-05|T       |SYMA  |NYSE    |2020-08-05 20:21:09.752|90          |2020-08-05 09:30:00|74.60   |null  |null    |null  |null    |null|T        |\n",
      "|2020-08-05|T       |SYMA  |NYSE    |2020-08-05 21:30:19.773|100         |2020-08-05 09:30:00|77.79   |null  |null    |null  |null    |null|T        |\n",
      "|2020-08-05|T       |SYMB  |NYSE    |2020-08-05 10:43:54.198|10          |2020-08-05 09:30:00|34.98   |null  |null    |null  |null    |null|T        |\n",
      "|2020-08-05|T       |SYMB  |NYSE    |2020-08-05 12:02:40.506|20          |2020-08-05 09:30:00|33.18   |null  |null    |null  |null    |null|T        |\n",
      "|2020-08-05|T       |SYMB  |NYSE    |2020-08-05 13:10:45.361|30          |2020-08-05 09:30:00|34.18   |null  |null    |null  |null    |null|T        |\n",
      "|2020-08-05|T       |SYMB  |NYSE    |2020-08-05 14:26:20.473|40          |2020-08-05 09:30:00|36.51   |null  |null    |null  |null    |null|T        |\n",
      "|2020-08-05|T       |SYMB  |NYSE    |2020-08-05 15:31:43.643|50          |2020-08-05 09:30:00|36.08   |null  |null    |null  |null    |null|T        |\n",
      "|2020-08-05|T       |SYMB  |NYSE    |2020-08-05 16:48:29.503|60          |2020-08-05 09:30:00|35.76   |null  |null    |null  |null    |null|T        |\n",
      "|2020-08-05|T       |SYMB  |NYSE    |2020-08-05 18:02:11.213|70          |2020-08-05 09:30:00|32.68   |null  |null    |null  |null    |null|T        |\n",
      "|2020-08-05|T       |SYMB  |NYSE    |2020-08-05 19:08:12.441|80          |2020-08-05 09:30:00|34.27   |null  |null    |null  |null    |null|T        |\n",
      "|2020-08-05|T       |SYMB  |NYSE    |2020-08-05 20:17:22.625|90          |2020-08-05 09:30:00|34.25   |null  |null    |null  |null    |null|T        |\n",
      "|2020-08-05|T       |SYMB  |NYSE    |2020-08-05 21:27:28.314|100         |2020-08-05 09:30:00|33.96   |null  |null    |null  |null    |null|T        |\n",
      "|2020-08-05|T       |SYMC  |NYSE    |2020-08-05 10:44:56.492|10          |2020-08-05 09:30:00|160.88  |null  |null    |null  |null    |null|T        |\n",
      "|2020-08-05|T       |SYMC  |NYSE    |2020-08-05 11:58:06.861|20          |2020-08-05 09:30:00|157.03  |null  |null    |null  |null    |null|T        |\n",
      "|2020-08-05|T       |SYMC  |NYSE    |2020-08-05 13:10:55.919|30          |2020-08-05 09:30:00|157.25  |null  |null    |null  |null    |null|T        |\n",
      "|2020-08-05|T       |SYMC  |NYSE    |2020-08-05 14:32:26.063|40          |2020-08-05 09:30:00|160.94  |null  |null    |null  |null    |null|T        |\n",
      "|2020-08-05|T       |SYMC  |NYSE    |2020-08-05 15:48:06.73 |50          |2020-08-05 09:30:00|159.17  |null  |null    |null  |null    |null|T        |\n",
      "|2020-08-05|T       |SYMC  |NYSE    |2020-08-05 17:01:38.379|60          |2020-08-05 09:30:00|161.15  |null  |null    |null  |null    |null|T        |\n",
      "|2020-08-05|T       |SYMC  |NYSE    |2020-08-05 18:20:43.709|70          |2020-08-05 09:30:00|158.18  |null  |null    |null  |null    |null|T        |\n",
      "|2020-08-05|T       |SYMC  |NYSE    |2020-08-05 19:37:55.659|80          |2020-08-05 09:30:00|161.13  |null  |null    |null  |null    |null|T        |\n",
      "|2020-08-05|T       |SYMC  |NYSE    |2020-08-05 20:48:19.795|90          |2020-08-05 09:30:00|159.72  |null  |null    |null  |null    |null|T        |\n",
      "|2020-08-05|T       |SYMC  |NYSE    |2020-08-05 21:52:38.607|100         |2020-08-05 09:30:00|160.62  |null  |null    |null  |null    |null|T        |\n",
      "+----------+--------+------+--------+-----------------------+------------+-------------------+--------+------+--------+------+--------+----+---------+\n",
      "\n"
     ]
    }
   ],
   "source": [
    "trade_common_df.where(trade_common_df.partition == 'T').show(120, truncate=False)"
   ]
  },
  {
   "cell_type": "code",
   "execution_count": 48,
   "id": "63188534",
   "metadata": {},
   "outputs": [
    {
     "name": "stdout",
     "output_type": "stream",
     "text": [
      "root\n",
      " |-- trade_dt: date (nullable = true)\n",
      " |-- rec_type: string (nullable = true)\n",
      " |-- symbol: string (nullable = true)\n",
      " |-- exchange: string (nullable = true)\n",
      " |-- event_tm: timestamp (nullable = true)\n",
      " |-- event_seq_nb: integer (nullable = true)\n",
      " |-- arrival_tm: timestamp (nullable = true)\n",
      " |-- trade_pr: decimal(10,2) (nullable = true)\n",
      " |-- bid_pr: decimal(10,2) (nullable = true)\n",
      " |-- bid_size: integer (nullable = true)\n",
      " |-- ask_pr: decimal(10,2) (nullable = true)\n",
      " |-- ask_size: integer (nullable = true)\n",
      " |-- line: string (nullable = true)\n",
      " |-- partition: string (nullable = true)\n",
      "\n"
     ]
    }
   ],
   "source": [
    "trade_common_df.printSchema()"
   ]
  },
  {
   "cell_type": "code",
   "execution_count": 42,
   "id": "9b18807c",
   "metadata": {},
   "outputs": [
    {
     "data": {
      "text/plain": [
       "[Row(trade_dt=datetime.date(2021, 6, 22)),\n",
       " Row(trade_dt=datetime.date(2021, 6, 23))]"
      ]
     },
     "execution_count": 42,
     "metadata": {},
     "output_type": "execute_result"
    }
   ],
   "source": [
    "trade_common_df.select('trade_dt').distinct().collect()"
   ]
  },
  {
   "cell_type": "code",
   "execution_count": 43,
   "id": "3d156cf0",
   "metadata": {},
   "outputs": [
    {
     "data": {
      "text/plain": [
       "240"
      ]
     },
     "execution_count": 43,
     "metadata": {},
     "output_type": "execute_result"
    }
   ],
   "source": [
    "trade_common_df.count()"
   ]
  },
  {
   "cell_type": "code",
   "execution_count": 28,
   "id": "d89f8e9b",
   "metadata": {},
   "outputs": [
    {
     "name": "stdout",
     "output_type": "stream",
     "text": [
      "wasbs://test@guidedcapstonesa.blob.core.windows.net/trade/trade_dt=0021-06-22\n",
      "wasbs://test@guidedcapstonesa.blob.core.windows.net/trade/trade_dt=0021-06-23\n"
     ]
    }
   ],
   "source": [
    "# Generalize for any number of days\n",
    "\n",
    "all_data = spark.createDataFrame([], COMMON_SCHEMA)  # empty dataframe to accumulate all files\n",
    "\n",
    "dates = [date(21,6,22), date(21,6,23)]\n",
    "\n",
    "trades = []\n",
    "for dt in dates:\n",
    "    in_file = cloud_storage_path + '/trade/trade_dt=' + dt.isoformat() \n",
    "    trades.append(spark.read.parquet(in_file))\n",
    "    \n",
    "    \n",
    "    "
   ]
  },
  {
   "cell_type": "code",
   "execution_count": 38,
   "id": "03aa8ffb",
   "metadata": {},
   "outputs": [],
   "source": [
    "trade_common_df.createOrReplaceGlobalTempView('quote')\n"
   ]
  },
  {
   "cell_type": "code",
   "execution_count": 39,
   "id": "1e54f36b",
   "metadata": {},
   "outputs": [
    {
     "name": "stdout",
     "output_type": "stream",
     "text": [
      "+------------+-------------+-------+\n",
      "|    col_name|    data_type|comment|\n",
      "+------------+-------------+-------+\n",
      "|    trade_dt|         date|   null|\n",
      "|      symbol|       string|   null|\n",
      "|    exchange|       string|   null|\n",
      "|    event_tm|    timestamp|   null|\n",
      "|event_seq_nb|          int|   null|\n",
      "|  arrival_tm|    timestamp|   null|\n",
      "|      bid_pr|decimal(10,2)|   null|\n",
      "|    bid_size|          int|   null|\n",
      "|      ask_pr|decimal(10,2)|   null|\n",
      "|    ask_size|          int|   null|\n",
      "|    quote_dt|         date|   null|\n",
      "+------------+-------------+-------+\n",
      "\n"
     ]
    }
   ],
   "source": [
    "spark.sql('describe  table extended global_temp.quote ').show(50)"
   ]
  },
  {
   "cell_type": "code",
   "execution_count": 18,
   "id": "7dceceb2",
   "metadata": {},
   "outputs": [
    {
     "data": {
      "text/plain": [
       "DataFrame[count(1): bigint]"
      ]
     },
     "execution_count": 18,
     "metadata": {},
     "output_type": "execute_result"
    }
   ],
   "source": [
    "spark.sql(\"select count(*) from quote;\")"
   ]
  },
  {
   "cell_type": "code",
   "execution_count": 19,
   "id": "9c8ed7a5",
   "metadata": {},
   "outputs": [
    {
     "data": {
      "text/plain": [
       "[Row(trade_dt=datetime.date(2020, 8, 5), symbol='SYMB', exchange='NASDAQ', event_tm=datetime.datetime(2020, 8, 5, 13, 3, 51, 427000), event_seq_nb=30, arrival_tm=datetime.datetime(2020, 8, 5, 9, 30), bid_pr=None, bid_size=None, ask_pr=None, ask_size=None),\n",
       " Row(trade_dt=datetime.date(2020, 8, 5), symbol='SYMC', exchange='NASDAQ', event_tm=datetime.datetime(2020, 8, 5, 18, 15, 15, 631000), event_seq_nb=70, arrival_tm=datetime.datetime(2020, 8, 5, 9, 30), bid_pr=None, bid_size=None, ask_pr=None, ask_size=None),\n",
       " Row(trade_dt=datetime.date(2020, 8, 6), symbol='SYMC', exchange='NASDAQ', event_tm=datetime.datetime(2020, 8, 6, 18, 59, 56, 853000), event_seq_nb=80, arrival_tm=datetime.datetime(2020, 8, 6, 9, 30), bid_pr=None, bid_size=None, ask_pr=None, ask_size=None),\n",
       " Row(trade_dt=datetime.date(2020, 8, 5), symbol='SYMA', exchange='NASDAQ', event_tm=datetime.datetime(2020, 8, 5, 14, 22, 41, 390000), event_seq_nb=40, arrival_tm=datetime.datetime(2020, 8, 5, 9, 30), bid_pr=None, bid_size=None, ask_pr=None, ask_size=None),\n",
       " Row(trade_dt=datetime.date(2020, 8, 5), symbol='SYMA', exchange='NASDAQ', event_tm=datetime.datetime(2020, 8, 5, 15, 33, 58, 825000), event_seq_nb=50, arrival_tm=datetime.datetime(2020, 8, 5, 9, 30), bid_pr=None, bid_size=None, ask_pr=None, ask_size=None)]"
      ]
     },
     "execution_count": 19,
     "metadata": {},
     "output_type": "execute_result"
    }
   ],
   "source": [
    "trade_common_df.take(5)"
   ]
  },
  {
   "cell_type": "code",
   "execution_count": null,
   "id": "3de92185",
   "metadata": {},
   "outputs": [],
   "source": []
  }
 ],
 "metadata": {
  "kernelspec": {
   "display_name": "Python 3",
   "language": "python",
   "name": "python3"
  },
  "language_info": {
   "codemirror_mode": {
    "name": "ipython",
    "version": 3
   },
   "file_extension": ".py",
   "mimetype": "text/x-python",
   "name": "python",
   "nbconvert_exporter": "python",
   "pygments_lexer": "ipython3",
   "version": "3.8.10"
  }
 },
 "nbformat": 4,
 "nbformat_minor": 5
}
