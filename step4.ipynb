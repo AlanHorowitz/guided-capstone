{
 "cells": [
  {
   "cell_type": "code",
   "execution_count": 60,
   "id": "c4480bf2",
   "metadata": {},
   "outputs": [],
   "source": [
    "from pyspark.sql import SparkSession\n",
    "from pyspark.sql.functions import lit\n",
    "from pyspark.sql.types import DecimalType\n",
    "from datetime import date\n",
    "import os"
   ]
  },
  {
   "cell_type": "code",
   "execution_count": 67,
   "id": "fb1be9d0",
   "metadata": {},
   "outputs": [
    {
     "name": "stdout",
     "output_type": "stream",
     "text": [
      "root\n",
      " |-- trade_dt: date (nullable = true)\n",
      " |-- rec_type: string (nullable = true)\n",
      " |-- symbol: string (nullable = true)\n",
      " |-- exchange: string (nullable = true)\n",
      " |-- event_tm: timestamp (nullable = true)\n",
      " |-- event_seq_nb: integer (nullable = true)\n",
      " |-- arrival_tm: timestamp (nullable = true)\n",
      " |-- trade_pr: decimal(10,2) (nullable = true)\n",
      " |-- bid_pr: decimal(10,2) (nullable = true)\n",
      " |-- bid_size: integer (nullable = true)\n",
      " |-- ask_pr: decimal(10,2) (nullable = true)\n",
      " |-- ask_size: integer (nullable = true)\n",
      " |-- line: string (nullable = true)\n",
      " |-- partition: string (nullable = true)\n",
      "\n",
      "root\n",
      " |-- trade_dt: date (nullable = true)\n",
      " |-- rec_type: string (nullable = true)\n",
      " |-- symbol: string (nullable = true)\n",
      " |-- exchange: string (nullable = true)\n",
      " |-- event_tm: timestamp (nullable = true)\n",
      " |-- event_seq_nb: integer (nullable = true)\n",
      " |-- arrival_tm: timestamp (nullable = true)\n",
      " |-- trade_pr: decimal(10,2) (nullable = true)\n",
      " |-- bid_pr: decimal(10,2) (nullable = true)\n",
      " |-- bid_size: integer (nullable = true)\n",
      " |-- ask_pr: decimal(10,2) (nullable = true)\n",
      " |-- ask_size: integer (nullable = true)\n",
      " |-- line: string (nullable = true)\n",
      " |-- partition: string (nullable = true)\n",
      " |-- mov_avg_trade_pr: decimal(10,2) (nullable = true)\n",
      "\n"
     ]
    }
   ],
   "source": [
    "spark = SparkSession.builder.master('local').appName('app').getOrCreate()\n",
    "#spark.conf.set(\"spark.sql.shuffle.partitions\", 5)  # avoid unneeded shuffling\n",
    "\n",
    "cloud_storage_path = \"wasbs://test@guidedcapstonesa.blob.core.windows.net\"\n",
    "# trade_common_df = spark.read.parquet(f\"{cloud_storage_path}/trade\")\n",
    "\n",
    "INPUT_DIRECTORY = \"output_dir\"\n",
    "file_input = 'file://' + os.getcwd() + '/' + INPUT_DIRECTORY \n",
    "trade_common_df = spark.read.parquet(file_input)\n",
    "trades_df = trade_common_df.where(trade_common_df.partition == 'T')                           \n",
    "quotes_extended_df = trade_common_df.where(trade_common_df.partition == 'Q')\\\n",
    "                           .withColumn('mov_avg_trade_pr', lit(None).cast(DecimalType(10, 2)))\n",
    "\n",
    "trades_df.createOrReplaceTempView(\"trades\")\n",
    "quotes_df.createOrReplaceTempView(\"quotes_extended\")\n",
    "\n",
    "trades_df.printSchema()\n",
    "quotes_df.printSchema()\n"
   ]
  },
  {
   "cell_type": "code",
   "execution_count": 72,
   "id": "f409f3a5",
   "metadata": {},
   "outputs": [],
   "source": [
    "sql2 = \"\"\"\n",
    "SELECT trade_dt, symbol, exchange, event_tm, trade_pr,\n",
    "LAG(trade_pr, 1) OVER (partition by symbol, exchange order by event_tm) as trade_pr_prior\n",
    "from trades;\n",
    "\"\"\"\n",
    "\n",
    "sql3 = \"\"\"\n",
    "SELECT *, \n",
    "mean(trade_pr) OVER  \n",
    "(partition by symbol, exchange order by event_tm\n",
    "RANGE BETWEEN INTERVAL 30 MINUTES PRECEDING AND CURRENT ROW)\n",
    "as mov_avg_trade_pr FROM trades;\n",
    "\"\"\"\n",
    "\n",
    "sql4 = \"\"\"\n",
    "\n",
    "SELECT trade_dt, symbol, exchange, trade_pr_close,\n",
    "lag(trade_pr_close,1) OVER (partition by symbol, exchange order by trade_dt) as trade_pr_close_prior\n",
    "from \n",
    "(\n",
    "    SELECT trade_dt, symbol, exchange, event_tm, trade_pr,\n",
    "    nth_value(trade_pr,1) OVER (partition by symbol, exchange, trade_dt order by event_tm desc) as trade_pr_close,\n",
    "    row_number() OVER (partition by symbol, exchange, trade_dt order by event_tm desc) as row\n",
    "    from trades\n",
    ") a\n",
    "\n",
    "WHERE row = 1\n",
    "ORDER BY trade_dt, symbol, exchange;\n",
    "\"\"\"\n",
    "\n",
    "\n",
    "\n",
    "spark.sql(sql3).createOrReplaceTempView(\"trades_extended\")\n",
    "\n",
    "sql_union = \"\"\"\n",
    "select * from trades_extended\n",
    "union\n",
    "select * from quotes_extended\n",
    "order by event_tm\n",
    "\"\"\"\n",
    "\n",
    "spark.sql(sql_union)\\\n",
    ".select('trade_dt', 'rec_type', 'symbol', 'exchange', 'event_tm', 'trade_pr', 'mov_avg_trade_pr')\\\n",
    ".createOrReplaceTempView(\"quote_trade_extended\")"
   ]
  },
  {
   "cell_type": "code",
   "execution_count": 74,
   "id": "0e7f7e6f",
   "metadata": {},
   "outputs": [
    {
     "name": "stdout",
     "output_type": "stream",
     "text": [
      "+----------+------+--------+-----------------------+--------+--------------+\n",
      "|trade_dt  |symbol|exchange|event_tm               |trade_pr|prior_trade_pr|\n",
      "+----------+------+--------+-----------------------+--------+--------------+\n",
      "|2020-08-05|SYMC  |NYSE    |2020-08-05 09:35:05.228|null    |null          |\n",
      "|2020-08-05|SYMC  |NYSE    |2020-08-05 09:41:59.433|null    |null          |\n",
      "|2020-08-05|SYMC  |NYSE    |2020-08-05 09:51:34.255|null    |null          |\n",
      "|2020-08-05|SYMC  |NYSE    |2020-08-05 10:00:47.821|null    |null          |\n",
      "|2020-08-05|SYMC  |NYSE    |2020-08-05 10:09:18.246|null    |null          |\n",
      "|2020-08-05|SYMC  |NYSE    |2020-08-05 10:18:13.448|null    |null          |\n",
      "|2020-08-05|SYMC  |NYSE    |2020-08-05 10:25:51.729|null    |null          |\n",
      "|2020-08-05|SYMC  |NYSE    |2020-08-05 10:32:28.771|null    |null          |\n",
      "|2020-08-05|SYMC  |NYSE    |2020-08-05 10:38:59.521|null    |null          |\n",
      "|2020-08-05|SYMC  |NYSE    |2020-08-05 10:44:56.492|160.88  |160.88        |\n",
      "|2020-08-05|SYMC  |NYSE    |2020-08-05 10:54:00.181|null    |160.88        |\n",
      "|2020-08-05|SYMC  |NYSE    |2020-08-05 11:01:10.83 |null    |160.88        |\n",
      "|2020-08-05|SYMC  |NYSE    |2020-08-05 11:06:10.236|null    |160.88        |\n",
      "|2020-08-05|SYMC  |NYSE    |2020-08-05 11:15:19.5  |null    |160.88        |\n",
      "|2020-08-05|SYMC  |NYSE    |2020-08-05 11:21:57.572|null    |160.88        |\n",
      "|2020-08-05|SYMC  |NYSE    |2020-08-05 11:29:11.1  |null    |160.88        |\n",
      "|2020-08-05|SYMC  |NYSE    |2020-08-05 11:34:36.082|null    |160.88        |\n",
      "|2020-08-05|SYMC  |NYSE    |2020-08-05 11:42:19.603|null    |160.88        |\n",
      "|2020-08-05|SYMC  |NYSE    |2020-08-05 11:48:55.46 |null    |160.88        |\n",
      "|2020-08-05|SYMC  |NYSE    |2020-08-05 11:58:06.861|157.03  |157.03        |\n",
      "|2020-08-05|SYMC  |NYSE    |2020-08-05 12:07:00.775|null    |157.03        |\n",
      "|2020-08-05|SYMC  |NYSE    |2020-08-05 12:15:57.471|null    |157.03        |\n",
      "|2020-08-05|SYMC  |NYSE    |2020-08-05 12:21:22.237|null    |157.03        |\n",
      "|2020-08-05|SYMC  |NYSE    |2020-08-05 12:29:24.547|null    |157.03        |\n",
      "|2020-08-05|SYMC  |NYSE    |2020-08-05 12:37:27.196|null    |157.03        |\n",
      "|2020-08-05|SYMC  |NYSE    |2020-08-05 12:42:45.605|null    |157.03        |\n",
      "|2020-08-05|SYMC  |NYSE    |2020-08-05 12:51:53.136|null    |157.03        |\n",
      "|2020-08-05|SYMC  |NYSE    |2020-08-05 12:57:19.609|null    |157.03        |\n",
      "|2020-08-05|SYMC  |NYSE    |2020-08-05 13:03:04.932|null    |157.03        |\n",
      "|2020-08-05|SYMC  |NYSE    |2020-08-05 13:10:55.919|157.25  |157.25        |\n",
      "|2020-08-05|SYMC  |NYSE    |2020-08-05 13:20:20.628|null    |157.25        |\n",
      "|2020-08-05|SYMC  |NYSE    |2020-08-05 13:28:55.169|null    |157.25        |\n",
      "|2020-08-05|SYMC  |NYSE    |2020-08-05 13:37:26.364|null    |157.25        |\n",
      "|2020-08-05|SYMC  |NYSE    |2020-08-05 13:45:39.678|null    |157.25        |\n",
      "|2020-08-05|SYMC  |NYSE    |2020-08-05 13:52:45.49 |null    |157.25        |\n",
      "|2020-08-05|SYMC  |NYSE    |2020-08-05 13:59:13.939|null    |157.25        |\n",
      "|2020-08-05|SYMC  |NYSE    |2020-08-05 14:08:05.164|null    |157.25        |\n",
      "|2020-08-05|SYMC  |NYSE    |2020-08-05 14:15:51.176|null    |157.25        |\n",
      "|2020-08-05|SYMC  |NYSE    |2020-08-05 14:24:38.593|null    |157.25        |\n",
      "|2020-08-05|SYMC  |NYSE    |2020-08-05 14:32:26.063|160.94  |160.94        |\n",
      "|2020-08-05|SYMC  |NYSE    |2020-08-05 14:38:38.684|null    |160.94        |\n",
      "|2020-08-05|SYMC  |NYSE    |2020-08-05 14:47:54.79 |null    |160.94        |\n",
      "|2020-08-05|SYMC  |NYSE    |2020-08-05 14:54:08.08 |null    |160.94        |\n",
      "|2020-08-05|SYMC  |NYSE    |2020-08-05 15:02:22.568|null    |160.94        |\n",
      "|2020-08-05|SYMC  |NYSE    |2020-08-05 15:11:30.569|null    |160.94        |\n",
      "|2020-08-05|SYMC  |NYSE    |2020-08-05 15:16:43.979|null    |160.94        |\n",
      "|2020-08-05|SYMC  |NYSE    |2020-08-05 15:25:44.079|null    |160.94        |\n",
      "|2020-08-05|SYMC  |NYSE    |2020-08-05 15:34:38.08 |null    |160.94        |\n",
      "|2020-08-05|SYMC  |NYSE    |2020-08-05 15:41:06.012|null    |160.94        |\n",
      "|2020-08-05|SYMC  |NYSE    |2020-08-05 15:48:06.73 |159.17  |159.17        |\n",
      "|2020-08-05|SYMC  |NYSE    |2020-08-05 15:56:43.16 |null    |159.17        |\n",
      "|2020-08-05|SYMC  |NYSE    |2020-08-05 16:01:55.111|null    |159.17        |\n",
      "|2020-08-05|SYMC  |NYSE    |2020-08-05 16:07:53.23 |null    |159.17        |\n",
      "|2020-08-05|SYMC  |NYSE    |2020-08-05 16:15:37.002|null    |159.17        |\n",
      "|2020-08-05|SYMC  |NYSE    |2020-08-05 16:25:05.493|null    |159.17        |\n",
      "|2020-08-05|SYMC  |NYSE    |2020-08-05 16:32:38.232|null    |159.17        |\n",
      "|2020-08-05|SYMC  |NYSE    |2020-08-05 16:40:15.568|null    |159.17        |\n",
      "|2020-08-05|SYMC  |NYSE    |2020-08-05 16:47:29.17 |null    |159.17        |\n",
      "|2020-08-05|SYMC  |NYSE    |2020-08-05 16:54:12.533|null    |159.17        |\n",
      "|2020-08-05|SYMC  |NYSE    |2020-08-05 17:01:38.379|161.15  |161.15        |\n",
      "|2020-08-05|SYMC  |NYSE    |2020-08-05 17:09:36.032|null    |161.15        |\n",
      "|2020-08-05|SYMC  |NYSE    |2020-08-05 17:19:01.2  |null    |161.15        |\n",
      "|2020-08-05|SYMC  |NYSE    |2020-08-05 17:26:33.825|null    |161.15        |\n",
      "|2020-08-05|SYMC  |NYSE    |2020-08-05 17:34:42.78 |null    |161.15        |\n",
      "|2020-08-05|SYMC  |NYSE    |2020-08-05 17:41:27.08 |null    |161.15        |\n",
      "|2020-08-05|SYMC  |NYSE    |2020-08-05 17:50:52.956|null    |161.15        |\n",
      "|2020-08-05|SYMC  |NYSE    |2020-08-05 17:59:10.242|null    |161.15        |\n",
      "|2020-08-05|SYMC  |NYSE    |2020-08-05 18:07:31.844|null    |161.15        |\n",
      "|2020-08-05|SYMC  |NYSE    |2020-08-05 18:13:28.631|null    |161.15        |\n",
      "|2020-08-05|SYMC  |NYSE    |2020-08-05 18:20:43.709|158.18  |158.18        |\n",
      "|2020-08-05|SYMC  |NYSE    |2020-08-05 18:29:34.06 |null    |158.18        |\n",
      "|2020-08-05|SYMC  |NYSE    |2020-08-05 18:37:01.927|null    |158.18        |\n",
      "|2020-08-05|SYMC  |NYSE    |2020-08-05 18:43:19.652|null    |158.18        |\n",
      "|2020-08-05|SYMC  |NYSE    |2020-08-05 18:48:45.176|null    |158.18        |\n",
      "|2020-08-05|SYMC  |NYSE    |2020-08-05 18:56:25.882|null    |158.18        |\n",
      "|2020-08-05|SYMC  |NYSE    |2020-08-05 19:03:16.803|null    |158.18        |\n",
      "|2020-08-05|SYMC  |NYSE    |2020-08-05 19:10:53.926|null    |158.18        |\n",
      "|2020-08-05|SYMC  |NYSE    |2020-08-05 19:20:25.922|null    |158.18        |\n",
      "|2020-08-05|SYMC  |NYSE    |2020-08-05 19:28:39.069|null    |158.18        |\n",
      "|2020-08-05|SYMC  |NYSE    |2020-08-05 19:37:55.659|161.13  |161.13        |\n",
      "|2020-08-05|SYMC  |NYSE    |2020-08-05 19:47:23.75 |null    |161.13        |\n",
      "|2020-08-05|SYMC  |NYSE    |2020-08-05 19:54:30.365|null    |161.13        |\n",
      "|2020-08-05|SYMC  |NYSE    |2020-08-05 19:59:32.008|null    |161.13        |\n",
      "|2020-08-05|SYMC  |NYSE    |2020-08-05 20:08:33.369|null    |161.13        |\n",
      "|2020-08-05|SYMC  |NYSE    |2020-08-05 20:14:39.576|null    |161.13        |\n",
      "|2020-08-05|SYMC  |NYSE    |2020-08-05 20:20:45.539|null    |161.13        |\n",
      "|2020-08-05|SYMC  |NYSE    |2020-08-05 20:29:39.564|null    |161.13        |\n",
      "|2020-08-05|SYMC  |NYSE    |2020-08-05 20:37:12.617|null    |161.13        |\n",
      "|2020-08-05|SYMC  |NYSE    |2020-08-05 20:42:41.308|null    |161.13        |\n",
      "|2020-08-05|SYMC  |NYSE    |2020-08-05 20:48:19.795|159.72  |159.72        |\n",
      "|2020-08-05|SYMC  |NYSE    |2020-08-05 20:53:32.672|null    |159.72        |\n",
      "|2020-08-05|SYMC  |NYSE    |2020-08-05 20:59:16.928|null    |159.72        |\n",
      "|2020-08-05|SYMC  |NYSE    |2020-08-05 21:06:50.101|null    |159.72        |\n",
      "|2020-08-05|SYMC  |NYSE    |2020-08-05 21:13:15.969|null    |159.72        |\n",
      "|2020-08-05|SYMC  |NYSE    |2020-08-05 21:18:32.91 |null    |159.72        |\n",
      "|2020-08-05|SYMC  |NYSE    |2020-08-05 21:27:45.366|null    |159.72        |\n",
      "|2020-08-05|SYMC  |NYSE    |2020-08-05 21:36:44.375|null    |159.72        |\n",
      "|2020-08-05|SYMC  |NYSE    |2020-08-05 21:42:00.631|null    |159.72        |\n",
      "|2020-08-05|SYMC  |NYSE    |2020-08-05 21:46:53.294|null    |159.72        |\n",
      "|2020-08-05|SYMC  |NYSE    |2020-08-05 21:52:38.607|160.62  |160.62        |\n",
      "+----------+------+--------+-----------------------+--------+--------------+\n",
      "only showing top 100 rows\n",
      "\n"
     ]
    }
   ],
   "source": [
    "sql_prior = \"\"\"\n",
    "SELECT trade_dt, symbol, exchange, event_tm, trade_pr,\n",
    "last(trade_pr, True) OVER (partition by symbol, exchange order by event_tm) as prior_trade_pr\n",
    "from quote_trade_extended;\n",
    "\"\"\"\n",
    "\n",
    "spark.sql(sql_prior).show(100,False)"
   ]
  },
  {
   "cell_type": "code",
   "execution_count": null,
   "id": "5f359f5a",
   "metadata": {},
   "outputs": [],
   "source": []
  },
  {
   "cell_type": "code",
   "execution_count": 50,
   "id": "d20e1ebc",
   "metadata": {},
   "outputs": [
    {
     "name": "stdout",
     "output_type": "stream",
     "text": [
      "+----------+------+--------+-----------------------+--------+--------------+\n",
      "|trade_dt  |symbol|exchange|event_tm               |trade_pr|trade_pr_prior|\n",
      "+----------+------+--------+-----------------------+--------+--------------+\n",
      "|2020-08-05|SYMC  |NYSE    |2020-08-05 10:44:56.492|160.88  |null          |\n",
      "|2020-08-05|SYMC  |NYSE    |2020-08-05 11:58:06.861|157.03  |160.88        |\n",
      "|2020-08-05|SYMC  |NYSE    |2020-08-05 13:10:55.919|157.25  |157.03        |\n",
      "|2020-08-05|SYMC  |NYSE    |2020-08-05 14:32:26.063|160.94  |157.25        |\n",
      "|2020-08-05|SYMC  |NYSE    |2020-08-05 15:48:06.73 |159.17  |160.94        |\n",
      "|2020-08-05|SYMC  |NYSE    |2020-08-05 17:01:38.379|161.15  |159.17        |\n",
      "|2020-08-05|SYMC  |NYSE    |2020-08-05 18:20:43.709|158.18  |161.15        |\n",
      "|2020-08-05|SYMC  |NYSE    |2020-08-05 19:37:55.659|161.13  |158.18        |\n",
      "|2020-08-05|SYMC  |NYSE    |2020-08-05 20:48:19.795|159.72  |161.13        |\n",
      "|2020-08-05|SYMC  |NYSE    |2020-08-05 21:52:38.607|160.62  |159.72        |\n",
      "|2020-08-06|SYMC  |NYSE    |2020-08-06 10:42:42.097|157.27  |160.62        |\n",
      "|2020-08-06|SYMC  |NYSE    |2020-08-06 11:52:31.939|160.15  |157.27        |\n",
      "|2020-08-06|SYMC  |NYSE    |2020-08-06 13:01:59.806|158.06  |160.15        |\n",
      "|2020-08-06|SYMC  |NYSE    |2020-08-06 14:15:55.659|161.48  |158.06        |\n",
      "|2020-08-06|SYMC  |NYSE    |2020-08-06 15:18:36.925|158.36  |161.48        |\n",
      "|2020-08-06|SYMC  |NYSE    |2020-08-06 16:24:51.731|161.57  |158.36        |\n",
      "|2020-08-06|SYMC  |NYSE    |2020-08-06 17:37:57.479|161.37  |161.57        |\n",
      "|2020-08-06|SYMC  |NYSE    |2020-08-06 19:00:52.082|159.15  |161.37        |\n",
      "|2020-08-06|SYMC  |NYSE    |2020-08-06 20:14:21.737|157.63  |159.15        |\n",
      "|2020-08-06|SYMC  |NYSE    |2020-08-06 21:32:57.735|159.38  |157.63        |\n",
      "+----------+------+--------+-----------------------+--------+--------------+\n",
      "only showing top 20 rows\n",
      "\n"
     ]
    }
   ],
   "source": [
    "spark.sql(sql2).show(20,False)"
   ]
  },
  {
   "cell_type": "code",
   "execution_count": 22,
   "id": "1ad2ffa0",
   "metadata": {},
   "outputs": [
    {
     "name": "stdout",
     "output_type": "stream",
     "text": [
      "+----------+--------+------+--------+-----------------------+------------+-------------------+--------+------+--------+------+--------+----+---------+\n",
      "|trade_dt  |rec_type|symbol|exchange|event_tm               |event_seq_nb|arrival_tm         |trade_pr|bid_pr|bid_size|ask_pr|ask_size|line|partition|\n",
      "+----------+--------+------+--------+-----------------------+------------+-------------------+--------+------+--------+------+--------+----+---------+\n",
      "|2020-08-06|T       |SYMA  |NASDAQ  |2020-08-06 10:42:21.079|10          |2020-08-06 09:30:00|78.93   |null  |null    |null  |null    |null|T        |\n",
      "|2020-08-06|T       |SYMA  |NASDAQ  |2020-08-06 12:00:29.595|20          |2020-08-06 09:30:00|77.10   |null  |null    |null  |null    |null|T        |\n",
      "|2020-08-06|T       |SYMA  |NASDAQ  |2020-08-06 13:09:29.883|30          |2020-08-06 09:30:00|78.31   |null  |null    |null  |null    |null|T        |\n",
      "|2020-08-06|T       |SYMA  |NASDAQ  |2020-08-06 14:27:08.62 |40          |2020-08-06 09:30:00|75.84   |null  |null    |null  |null    |null|T        |\n",
      "|2020-08-06|T       |SYMA  |NASDAQ  |2020-08-06 15:39:00.929|50          |2020-08-06 09:30:00|77.63   |null  |null    |null  |null    |null|T        |\n",
      "|2020-08-06|T       |SYMA  |NASDAQ  |2020-08-06 16:43:23.372|60          |2020-08-06 09:30:00|77.57   |null  |null    |null  |null    |null|T        |\n",
      "|2020-08-06|T       |SYMA  |NASDAQ  |2020-08-06 18:01:33.234|70          |2020-08-06 09:30:00|76.98   |null  |null    |null  |null    |null|T        |\n",
      "|2020-08-06|T       |SYMA  |NASDAQ  |2020-08-06 19:09:38.472|80          |2020-08-06 09:30:00|78.62   |null  |null    |null  |null    |null|T        |\n",
      "|2020-08-06|T       |SYMA  |NASDAQ  |2020-08-06 20:23:01.854|90          |2020-08-06 09:30:00|77.82   |null  |null    |null  |null    |null|T        |\n",
      "|2020-08-06|T       |SYMA  |NASDAQ  |2020-08-06 21:33:38.812|100         |2020-08-06 09:30:00|77.44   |null  |null    |null  |null    |null|T        |\n",
      "|2020-08-06|T       |SYMB  |NASDAQ  |2020-08-06 10:47:40.723|10          |2020-08-06 09:30:00|32.27   |null  |null    |null  |null    |null|T        |\n",
      "|2020-08-06|T       |SYMB  |NASDAQ  |2020-08-06 12:01:17.057|20          |2020-08-06 09:30:00|32.47   |null  |null    |null  |null    |null|T        |\n",
      "|2020-08-06|T       |SYMB  |NASDAQ  |2020-08-06 13:04:46.462|30          |2020-08-06 09:30:00|36.70   |null  |null    |null  |null    |null|T        |\n",
      "|2020-08-06|T       |SYMB  |NASDAQ  |2020-08-06 14:15:00.048|40          |2020-08-06 09:30:00|31.89   |null  |null    |null  |null    |null|T        |\n",
      "|2020-08-06|T       |SYMB  |NASDAQ  |2020-08-06 15:20:27.248|50          |2020-08-06 09:30:00|33.08   |null  |null    |null  |null    |null|T        |\n",
      "|2020-08-06|T       |SYMB  |NASDAQ  |2020-08-06 16:25:41.803|60          |2020-08-06 09:30:00|34.93   |null  |null    |null  |null    |null|T        |\n",
      "|2020-08-06|T       |SYMB  |NASDAQ  |2020-08-06 17:38:16.714|70          |2020-08-06 09:30:00|35.86   |null  |null    |null  |null    |null|T        |\n",
      "|2020-08-06|T       |SYMB  |NASDAQ  |2020-08-06 18:51:11.684|80          |2020-08-06 09:30:00|32.23   |null  |null    |null  |null    |null|T        |\n",
      "|2020-08-06|T       |SYMB  |NASDAQ  |2020-08-06 20:07:29.814|90          |2020-08-06 09:30:00|36.24   |null  |null    |null  |null    |null|T        |\n",
      "|2020-08-06|T       |SYMB  |NASDAQ  |2020-08-06 21:10:47.436|100         |2020-08-06 09:30:00|35.75   |null  |null    |null  |null    |null|T        |\n",
      "|2020-08-06|T       |SYMC  |NASDAQ  |2020-08-06 10:44:32.704|10          |2020-08-06 09:30:00|158.82  |null  |null    |null  |null    |null|T        |\n",
      "|2020-08-06|T       |SYMC  |NASDAQ  |2020-08-06 11:54:16.544|20          |2020-08-06 09:30:00|160.78  |null  |null    |null  |null    |null|T        |\n",
      "|2020-08-06|T       |SYMC  |NASDAQ  |2020-08-06 13:07:41.026|30          |2020-08-06 09:30:00|160.13  |null  |null    |null  |null    |null|T        |\n",
      "|2020-08-06|T       |SYMC  |NASDAQ  |2020-08-06 14:15:39.597|40          |2020-08-06 09:30:00|157.14  |null  |null    |null  |null    |null|T        |\n",
      "|2020-08-06|T       |SYMC  |NASDAQ  |2020-08-06 15:30:25.477|50          |2020-08-06 09:30:00|160.83  |null  |null    |null  |null    |null|T        |\n",
      "|2020-08-06|T       |SYMC  |NASDAQ  |2020-08-06 16:45:08.367|60          |2020-08-06 09:30:00|159.02  |null  |null    |null  |null    |null|T        |\n",
      "|2020-08-06|T       |SYMC  |NASDAQ  |2020-08-06 17:51:11.232|70          |2020-08-06 09:30:00|161.16  |null  |null    |null  |null    |null|T        |\n",
      "|2020-08-06|T       |SYMC  |NASDAQ  |2020-08-06 18:59:56.853|80          |2020-08-06 09:30:00|159.07  |null  |null    |null  |null    |null|T        |\n",
      "|2020-08-06|T       |SYMC  |NASDAQ  |2020-08-06 20:09:39.052|90          |2020-08-06 09:30:00|160.98  |null  |null    |null  |null    |null|T        |\n",
      "|2020-08-06|T       |SYMC  |NASDAQ  |2020-08-06 21:17:25.463|100         |2020-08-06 09:30:00|156.84  |null  |null    |null  |null    |null|T        |\n",
      "|2020-08-05|T       |SYMA  |NASDAQ  |2020-08-05 10:38:50.046|10          |2020-08-05 09:30:00|77.78   |null  |null    |null  |null    |null|T        |\n",
      "|2020-08-05|T       |SYMA  |NASDAQ  |2020-08-05 11:58:33.106|20          |2020-08-05 09:30:00|75.72   |null  |null    |null  |null    |null|T        |\n",
      "|2020-08-05|T       |SYMA  |NASDAQ  |2020-08-05 13:09:24.38 |30          |2020-08-05 09:30:00|75.88   |null  |null    |null  |null    |null|T        |\n",
      "|2020-08-05|T       |SYMA  |NASDAQ  |2020-08-05 14:22:41.39 |40          |2020-08-05 09:30:00|78.32   |null  |null    |null  |null    |null|T        |\n",
      "|2020-08-05|T       |SYMA  |NASDAQ  |2020-08-05 15:33:58.825|50          |2020-08-05 09:30:00|75.73   |null  |null    |null  |null    |null|T        |\n",
      "|2020-08-05|T       |SYMA  |NASDAQ  |2020-08-05 16:46:43.764|60          |2020-08-05 09:30:00|77.48   |null  |null    |null  |null    |null|T        |\n",
      "|2020-08-05|T       |SYMA  |NASDAQ  |2020-08-05 17:58:10.324|70          |2020-08-05 09:30:00|74.91   |null  |null    |null  |null    |null|T        |\n",
      "|2020-08-05|T       |SYMA  |NASDAQ  |2020-08-05 19:13:26.116|80          |2020-08-05 09:30:00|77.69   |null  |null    |null  |null    |null|T        |\n",
      "|2020-08-05|T       |SYMA  |NASDAQ  |2020-08-05 20:26:46.538|90          |2020-08-05 09:30:00|76.16   |null  |null    |null  |null    |null|T        |\n",
      "|2020-08-05|T       |SYMA  |NASDAQ  |2020-08-05 21:40:23.197|100         |2020-08-05 09:30:00|77.25   |null  |null    |null  |null    |null|T        |\n",
      "|2020-08-05|T       |SYMB  |NASDAQ  |2020-08-05 10:40:49.252|10          |2020-08-05 09:30:00|32.15   |null  |null    |null  |null    |null|T        |\n",
      "|2020-08-05|T       |SYMB  |NASDAQ  |2020-08-05 11:51:17.343|20          |2020-08-05 09:30:00|32.66   |null  |null    |null  |null    |null|T        |\n",
      "|2020-08-05|T       |SYMB  |NASDAQ  |2020-08-05 13:03:51.427|30          |2020-08-05 09:30:00|33.89   |null  |null    |null  |null    |null|T        |\n",
      "|2020-08-05|T       |SYMB  |NASDAQ  |2020-08-05 14:14:04.486|40          |2020-08-05 09:30:00|32.26   |null  |null    |null  |null    |null|T        |\n",
      "|2020-08-05|T       |SYMB  |NASDAQ  |2020-08-05 15:20:43.43 |50          |2020-08-05 09:30:00|32.18   |null  |null    |null  |null    |null|T        |\n",
      "|2020-08-05|T       |SYMB  |NASDAQ  |2020-08-05 16:29:56.837|60          |2020-08-05 09:30:00|34.87   |null  |null    |null  |null    |null|T        |\n",
      "|2020-08-05|T       |SYMB  |NASDAQ  |2020-08-05 17:42:00.878|70          |2020-08-05 09:30:00|36.29   |null  |null    |null  |null    |null|T        |\n",
      "|2020-08-05|T       |SYMB  |NASDAQ  |2020-08-05 18:56:18.696|80          |2020-08-05 09:30:00|35.61   |null  |null    |null  |null    |null|T        |\n",
      "|2020-08-05|T       |SYMB  |NASDAQ  |2020-08-05 20:04:43.324|90          |2020-08-05 09:30:00|36.75   |null  |null    |null  |null    |null|T        |\n",
      "|2020-08-05|T       |SYMB  |NASDAQ  |2020-08-05 21:03:26.585|100         |2020-08-05 09:30:00|35.54   |null  |null    |null  |null    |null|T        |\n",
      "|2020-08-05|T       |SYMC  |NASDAQ  |2020-08-05 10:47:33.415|10          |2020-08-05 09:30:00|159.57  |null  |null    |null  |null    |null|T        |\n",
      "|2020-08-05|T       |SYMC  |NASDAQ  |2020-08-05 12:00:15.362|20          |2020-08-05 09:30:00|159.83  |null  |null    |null  |null    |null|T        |\n",
      "|2020-08-05|T       |SYMC  |NASDAQ  |2020-08-05 13:13:16.155|30          |2020-08-05 09:30:00|157.85  |null  |null    |null  |null    |null|T        |\n",
      "|2020-08-05|T       |SYMC  |NASDAQ  |2020-08-05 14:36:51.222|40          |2020-08-05 09:30:00|158.63  |null  |null    |null  |null    |null|T        |\n",
      "|2020-08-05|T       |SYMC  |NASDAQ  |2020-08-05 15:49:28.981|50          |2020-08-05 09:30:00|157.07  |null  |null    |null  |null    |null|T        |\n",
      "|2020-08-05|T       |SYMC  |NASDAQ  |2020-08-05 17:02:58.71 |60          |2020-08-05 09:30:00|160.45  |null  |null    |null  |null    |null|T        |\n",
      "|2020-08-05|T       |SYMC  |NASDAQ  |2020-08-05 18:15:15.631|70          |2020-08-05 09:30:00|157.73  |null  |null    |null  |null    |null|T        |\n",
      "|2020-08-05|T       |SYMC  |NASDAQ  |2020-08-05 19:19:12.991|80          |2020-08-05 09:30:00|157.89  |null  |null    |null  |null    |null|T        |\n",
      "|2020-08-05|T       |SYMC  |NASDAQ  |2020-08-05 20:33:35.285|90          |2020-08-05 09:30:00|156.86  |null  |null    |null  |null    |null|T        |\n",
      "|2020-08-05|T       |SYMC  |NASDAQ  |2020-08-05 21:49:28.543|100         |2020-08-05 09:30:00|158.02  |null  |null    |null  |null    |null|T        |\n",
      "|2020-08-06|T       |SYMA  |NYSE    |2020-08-06 10:49:37.345|10          |2020-08-06 09:30:00|74.49   |null  |null    |null  |null    |null|T        |\n",
      "|2020-08-06|T       |SYMA  |NYSE    |2020-08-06 12:00:11.545|20          |2020-08-06 09:30:00|76.16   |null  |null    |null  |null    |null|T        |\n",
      "|2020-08-06|T       |SYMA  |NYSE    |2020-08-06 13:11:57.308|30          |2020-08-06 09:30:00|76.90   |null  |null    |null  |null    |null|T        |\n",
      "|2020-08-06|T       |SYMA  |NYSE    |2020-08-06 14:27:13.014|40          |2020-08-06 09:30:00|77.12   |null  |null    |null  |null    |null|T        |\n",
      "|2020-08-06|T       |SYMA  |NYSE    |2020-08-06 15:39:08.521|50          |2020-08-06 09:30:00|76.37   |null  |null    |null  |null    |null|T        |\n",
      "|2020-08-06|T       |SYMA  |NYSE    |2020-08-06 16:58:58.633|60          |2020-08-06 09:30:00|78.32   |null  |null    |null  |null    |null|T        |\n",
      "|2020-08-06|T       |SYMA  |NYSE    |2020-08-06 18:14:28.899|70          |2020-08-06 09:30:00|78.23   |null  |null    |null  |null    |null|T        |\n",
      "|2020-08-06|T       |SYMA  |NYSE    |2020-08-06 19:28:22.629|80          |2020-08-06 09:30:00|76.53   |null  |null    |null  |null    |null|T        |\n",
      "|2020-08-06|T       |SYMA  |NYSE    |2020-08-06 20:49:10.946|90          |2020-08-06 09:30:00|75.71   |null  |null    |null  |null    |null|T        |\n",
      "|2020-08-06|T       |SYMA  |NYSE    |2020-08-06 22:00:18.406|100         |2020-08-06 09:30:00|76.31   |null  |null    |null  |null    |null|T        |\n",
      "|2020-08-06|T       |SYMB  |NYSE    |2020-08-06 10:45:42.992|10          |2020-08-06 09:30:00|33.86   |null  |null    |null  |null    |null|T        |\n",
      "|2020-08-06|T       |SYMB  |NYSE    |2020-08-06 12:01:40.839|20          |2020-08-06 09:30:00|32.93   |null  |null    |null  |null    |null|T        |\n",
      "|2020-08-06|T       |SYMB  |NYSE    |2020-08-06 13:13:27.041|30          |2020-08-06 09:30:00|33.69   |null  |null    |null  |null    |null|T        |\n",
      "|2020-08-06|T       |SYMB  |NYSE    |2020-08-06 14:29:42.34 |40          |2020-08-06 09:30:00|35.07   |null  |null    |null  |null    |null|T        |\n",
      "|2020-08-06|T       |SYMB  |NYSE    |2020-08-06 15:46:21.701|50          |2020-08-06 09:30:00|34.83   |null  |null    |null  |null    |null|T        |\n",
      "|2020-08-06|T       |SYMB  |NYSE    |2020-08-06 16:57:15.217|60          |2020-08-06 09:30:00|33.32   |null  |null    |null  |null    |null|T        |\n",
      "|2020-08-06|T       |SYMB  |NYSE    |2020-08-06 18:06:29.531|70          |2020-08-06 09:30:00|33.57   |null  |null    |null  |null    |null|T        |\n",
      "|2020-08-06|T       |SYMB  |NYSE    |2020-08-06 19:21:50.111|80          |2020-08-06 09:30:00|33.11   |null  |null    |null  |null    |null|T        |\n",
      "|2020-08-06|T       |SYMB  |NYSE    |2020-08-06 20:36:05.757|90          |2020-08-06 09:30:00|32.64   |null  |null    |null  |null    |null|T        |\n",
      "|2020-08-06|T       |SYMB  |NYSE    |2020-08-06 21:46:00.523|100         |2020-08-06 09:30:00|35.92   |null  |null    |null  |null    |null|T        |\n",
      "|2020-08-06|T       |SYMC  |NYSE    |2020-08-06 10:42:42.097|10          |2020-08-06 09:30:00|157.27  |null  |null    |null  |null    |null|T        |\n",
      "|2020-08-06|T       |SYMC  |NYSE    |2020-08-06 11:52:31.939|20          |2020-08-06 09:30:00|160.15  |null  |null    |null  |null    |null|T        |\n",
      "|2020-08-06|T       |SYMC  |NYSE    |2020-08-06 13:01:59.806|30          |2020-08-06 09:30:00|158.06  |null  |null    |null  |null    |null|T        |\n",
      "|2020-08-06|T       |SYMC  |NYSE    |2020-08-06 14:15:55.659|40          |2020-08-06 09:30:00|161.48  |null  |null    |null  |null    |null|T        |\n",
      "|2020-08-06|T       |SYMC  |NYSE    |2020-08-06 15:18:36.925|50          |2020-08-06 09:30:00|158.36  |null  |null    |null  |null    |null|T        |\n",
      "|2020-08-06|T       |SYMC  |NYSE    |2020-08-06 16:24:51.731|60          |2020-08-06 09:30:00|161.57  |null  |null    |null  |null    |null|T        |\n",
      "|2020-08-06|T       |SYMC  |NYSE    |2020-08-06 17:37:57.479|70          |2020-08-06 09:30:00|161.37  |null  |null    |null  |null    |null|T        |\n",
      "|2020-08-06|T       |SYMC  |NYSE    |2020-08-06 19:00:52.082|80          |2020-08-06 09:30:00|159.15  |null  |null    |null  |null    |null|T        |\n",
      "|2020-08-06|T       |SYMC  |NYSE    |2020-08-06 20:14:21.737|90          |2020-08-06 09:30:00|157.63  |null  |null    |null  |null    |null|T        |\n",
      "|2020-08-06|T       |SYMC  |NYSE    |2020-08-06 21:32:57.735|100         |2020-08-06 09:30:00|159.38  |null  |null    |null  |null    |null|T        |\n",
      "|2020-08-05|T       |SYMA  |NYSE    |2020-08-05 10:37:21.581|10          |2020-08-05 09:30:00|79.19   |null  |null    |null  |null    |null|T        |\n",
      "|2020-08-05|T       |SYMA  |NYSE    |2020-08-05 11:56:13.086|20          |2020-08-05 09:30:00|76.49   |null  |null    |null  |null    |null|T        |\n",
      "|2020-08-05|T       |SYMA  |NYSE    |2020-08-05 13:09:12.493|30          |2020-08-05 09:30:00|75.05   |null  |null    |null  |null    |null|T        |\n",
      "|2020-08-05|T       |SYMA  |NYSE    |2020-08-05 14:24:34.33 |40          |2020-08-05 09:30:00|78.43   |null  |null    |null  |null    |null|T        |\n",
      "|2020-08-05|T       |SYMA  |NYSE    |2020-08-05 15:31:56.932|50          |2020-08-05 09:30:00|78.15   |null  |null    |null  |null    |null|T        |\n",
      "|2020-08-05|T       |SYMA  |NYSE    |2020-08-05 16:37:06.676|60          |2020-08-05 09:30:00|79.19   |null  |null    |null  |null    |null|T        |\n",
      "|2020-08-05|T       |SYMA  |NYSE    |2020-08-05 17:49:22.23 |70          |2020-08-05 09:30:00|77.07   |null  |null    |null  |null    |null|T        |\n",
      "|2020-08-05|T       |SYMA  |NYSE    |2020-08-05 19:04:45.677|80          |2020-08-05 09:30:00|75.48   |null  |null    |null  |null    |null|T        |\n",
      "|2020-08-05|T       |SYMA  |NYSE    |2020-08-05 20:21:09.752|90          |2020-08-05 09:30:00|74.60   |null  |null    |null  |null    |null|T        |\n",
      "|2020-08-05|T       |SYMA  |NYSE    |2020-08-05 21:30:19.773|100         |2020-08-05 09:30:00|77.79   |null  |null    |null  |null    |null|T        |\n",
      "|2020-08-05|T       |SYMB  |NYSE    |2020-08-05 10:43:54.198|10          |2020-08-05 09:30:00|34.98   |null  |null    |null  |null    |null|T        |\n",
      "|2020-08-05|T       |SYMB  |NYSE    |2020-08-05 12:02:40.506|20          |2020-08-05 09:30:00|33.18   |null  |null    |null  |null    |null|T        |\n",
      "|2020-08-05|T       |SYMB  |NYSE    |2020-08-05 13:10:45.361|30          |2020-08-05 09:30:00|34.18   |null  |null    |null  |null    |null|T        |\n",
      "|2020-08-05|T       |SYMB  |NYSE    |2020-08-05 14:26:20.473|40          |2020-08-05 09:30:00|36.51   |null  |null    |null  |null    |null|T        |\n",
      "|2020-08-05|T       |SYMB  |NYSE    |2020-08-05 15:31:43.643|50          |2020-08-05 09:30:00|36.08   |null  |null    |null  |null    |null|T        |\n",
      "|2020-08-05|T       |SYMB  |NYSE    |2020-08-05 16:48:29.503|60          |2020-08-05 09:30:00|35.76   |null  |null    |null  |null    |null|T        |\n",
      "|2020-08-05|T       |SYMB  |NYSE    |2020-08-05 18:02:11.213|70          |2020-08-05 09:30:00|32.68   |null  |null    |null  |null    |null|T        |\n",
      "|2020-08-05|T       |SYMB  |NYSE    |2020-08-05 19:08:12.441|80          |2020-08-05 09:30:00|34.27   |null  |null    |null  |null    |null|T        |\n",
      "|2020-08-05|T       |SYMB  |NYSE    |2020-08-05 20:17:22.625|90          |2020-08-05 09:30:00|34.25   |null  |null    |null  |null    |null|T        |\n",
      "|2020-08-05|T       |SYMB  |NYSE    |2020-08-05 21:27:28.314|100         |2020-08-05 09:30:00|33.96   |null  |null    |null  |null    |null|T        |\n",
      "|2020-08-05|T       |SYMC  |NYSE    |2020-08-05 10:44:56.492|10          |2020-08-05 09:30:00|160.88  |null  |null    |null  |null    |null|T        |\n",
      "|2020-08-05|T       |SYMC  |NYSE    |2020-08-05 11:58:06.861|20          |2020-08-05 09:30:00|157.03  |null  |null    |null  |null    |null|T        |\n",
      "|2020-08-05|T       |SYMC  |NYSE    |2020-08-05 13:10:55.919|30          |2020-08-05 09:30:00|157.25  |null  |null    |null  |null    |null|T        |\n",
      "|2020-08-05|T       |SYMC  |NYSE    |2020-08-05 14:32:26.063|40          |2020-08-05 09:30:00|160.94  |null  |null    |null  |null    |null|T        |\n",
      "|2020-08-05|T       |SYMC  |NYSE    |2020-08-05 15:48:06.73 |50          |2020-08-05 09:30:00|159.17  |null  |null    |null  |null    |null|T        |\n",
      "|2020-08-05|T       |SYMC  |NYSE    |2020-08-05 17:01:38.379|60          |2020-08-05 09:30:00|161.15  |null  |null    |null  |null    |null|T        |\n",
      "|2020-08-05|T       |SYMC  |NYSE    |2020-08-05 18:20:43.709|70          |2020-08-05 09:30:00|158.18  |null  |null    |null  |null    |null|T        |\n",
      "|2020-08-05|T       |SYMC  |NYSE    |2020-08-05 19:37:55.659|80          |2020-08-05 09:30:00|161.13  |null  |null    |null  |null    |null|T        |\n",
      "|2020-08-05|T       |SYMC  |NYSE    |2020-08-05 20:48:19.795|90          |2020-08-05 09:30:00|159.72  |null  |null    |null  |null    |null|T        |\n",
      "|2020-08-05|T       |SYMC  |NYSE    |2020-08-05 21:52:38.607|100         |2020-08-05 09:30:00|160.62  |null  |null    |null  |null    |null|T        |\n",
      "+----------+--------+------+--------+-----------------------+------------+-------------------+--------+------+--------+------+--------+----+---------+\n",
      "\n"
     ]
    }
   ],
   "source": [
    "trade_common_df.where(trade_common_df.partition == 'T').show(120, truncate=False)"
   ]
  },
  {
   "cell_type": "code",
   "execution_count": 48,
   "id": "0bea5543",
   "metadata": {},
   "outputs": [
    {
     "name": "stdout",
     "output_type": "stream",
     "text": [
      "root\n",
      " |-- trade_dt: date (nullable = true)\n",
      " |-- rec_type: string (nullable = true)\n",
      " |-- symbol: string (nullable = true)\n",
      " |-- exchange: string (nullable = true)\n",
      " |-- event_tm: timestamp (nullable = true)\n",
      " |-- event_seq_nb: integer (nullable = true)\n",
      " |-- arrival_tm: timestamp (nullable = true)\n",
      " |-- trade_pr: decimal(10,2) (nullable = true)\n",
      " |-- bid_pr: decimal(10,2) (nullable = true)\n",
      " |-- bid_size: integer (nullable = true)\n",
      " |-- ask_pr: decimal(10,2) (nullable = true)\n",
      " |-- ask_size: integer (nullable = true)\n",
      " |-- line: string (nullable = true)\n",
      " |-- partition: string (nullable = true)\n",
      "\n"
     ]
    }
   ],
   "source": [
    "trade_common_df.printSchema()"
   ]
  },
  {
   "cell_type": "code",
   "execution_count": 42,
   "id": "b8b6e9df",
   "metadata": {},
   "outputs": [
    {
     "data": {
      "text/plain": [
       "[Row(trade_dt=datetime.date(2021, 6, 22)),\n",
       " Row(trade_dt=datetime.date(2021, 6, 23))]"
      ]
     },
     "execution_count": 42,
     "metadata": {},
     "output_type": "execute_result"
    }
   ],
   "source": [
    "trade_common_df.select('trade_dt').distinct().collect()"
   ]
  },
  {
   "cell_type": "code",
   "execution_count": 43,
   "id": "8e39eed4",
   "metadata": {},
   "outputs": [
    {
     "data": {
      "text/plain": [
       "240"
      ]
     },
     "execution_count": 43,
     "metadata": {},
     "output_type": "execute_result"
    }
   ],
   "source": [
    "trade_common_df.count()"
   ]
  },
  {
   "cell_type": "code",
   "execution_count": 28,
   "id": "78d3ccff",
   "metadata": {},
   "outputs": [
    {
     "name": "stdout",
     "output_type": "stream",
     "text": [
      "wasbs://test@guidedcapstonesa.blob.core.windows.net/trade/trade_dt=0021-06-22\n",
      "wasbs://test@guidedcapstonesa.blob.core.windows.net/trade/trade_dt=0021-06-23\n"
     ]
    }
   ],
   "source": [
    "# Generalize for any number of days\n",
    "\n",
    "all_data = spark.createDataFrame([], COMMON_SCHEMA)  # empty dataframe to accumulate all files\n",
    "\n",
    "dates = [date(21,6,22), date(21,6,23)]\n",
    "\n",
    "trades = []\n",
    "for dt in dates:\n",
    "    in_file = cloud_storage_path + '/trade/trade_dt=' + dt.isoformat() \n",
    "    trades.append(spark.read.parquet(in_file))\n",
    "    \n",
    "    \n",
    "    "
   ]
  },
  {
   "cell_type": "code",
   "execution_count": 38,
   "id": "726310b2",
   "metadata": {},
   "outputs": [],
   "source": [
    "trade_common_df.createOrReplaceGlobalTempView('quote')\n"
   ]
  },
  {
   "cell_type": "code",
   "execution_count": 39,
   "id": "11518df3",
   "metadata": {},
   "outputs": [
    {
     "name": "stdout",
     "output_type": "stream",
     "text": [
      "+------------+-------------+-------+\n",
      "|    col_name|    data_type|comment|\n",
      "+------------+-------------+-------+\n",
      "|    trade_dt|         date|   null|\n",
      "|      symbol|       string|   null|\n",
      "|    exchange|       string|   null|\n",
      "|    event_tm|    timestamp|   null|\n",
      "|event_seq_nb|          int|   null|\n",
      "|  arrival_tm|    timestamp|   null|\n",
      "|      bid_pr|decimal(10,2)|   null|\n",
      "|    bid_size|          int|   null|\n",
      "|      ask_pr|decimal(10,2)|   null|\n",
      "|    ask_size|          int|   null|\n",
      "|    quote_dt|         date|   null|\n",
      "+------------+-------------+-------+\n",
      "\n"
     ]
    }
   ],
   "source": [
    "spark.sql('describe  table extended global_temp.quote ').show(50)"
   ]
  },
  {
   "cell_type": "code",
   "execution_count": 18,
   "id": "131845f5",
   "metadata": {},
   "outputs": [
    {
     "data": {
      "text/plain": [
       "DataFrame[count(1): bigint]"
      ]
     },
     "execution_count": 18,
     "metadata": {},
     "output_type": "execute_result"
    }
   ],
   "source": [
    "spark.sql(\"select count(*) from quote;\")"
   ]
  },
  {
   "cell_type": "code",
   "execution_count": 19,
   "id": "52c95ef1",
   "metadata": {},
   "outputs": [
    {
     "data": {
      "text/plain": [
       "[Row(trade_dt=datetime.date(2020, 8, 5), symbol='SYMB', exchange='NASDAQ', event_tm=datetime.datetime(2020, 8, 5, 13, 3, 51, 427000), event_seq_nb=30, arrival_tm=datetime.datetime(2020, 8, 5, 9, 30), bid_pr=None, bid_size=None, ask_pr=None, ask_size=None),\n",
       " Row(trade_dt=datetime.date(2020, 8, 5), symbol='SYMC', exchange='NASDAQ', event_tm=datetime.datetime(2020, 8, 5, 18, 15, 15, 631000), event_seq_nb=70, arrival_tm=datetime.datetime(2020, 8, 5, 9, 30), bid_pr=None, bid_size=None, ask_pr=None, ask_size=None),\n",
       " Row(trade_dt=datetime.date(2020, 8, 6), symbol='SYMC', exchange='NASDAQ', event_tm=datetime.datetime(2020, 8, 6, 18, 59, 56, 853000), event_seq_nb=80, arrival_tm=datetime.datetime(2020, 8, 6, 9, 30), bid_pr=None, bid_size=None, ask_pr=None, ask_size=None),\n",
       " Row(trade_dt=datetime.date(2020, 8, 5), symbol='SYMA', exchange='NASDAQ', event_tm=datetime.datetime(2020, 8, 5, 14, 22, 41, 390000), event_seq_nb=40, arrival_tm=datetime.datetime(2020, 8, 5, 9, 30), bid_pr=None, bid_size=None, ask_pr=None, ask_size=None),\n",
       " Row(trade_dt=datetime.date(2020, 8, 5), symbol='SYMA', exchange='NASDAQ', event_tm=datetime.datetime(2020, 8, 5, 15, 33, 58, 825000), event_seq_nb=50, arrival_tm=datetime.datetime(2020, 8, 5, 9, 30), bid_pr=None, bid_size=None, ask_pr=None, ask_size=None)]"
      ]
     },
     "execution_count": 19,
     "metadata": {},
     "output_type": "execute_result"
    }
   ],
   "source": [
    "trade_common_df.take(5)"
   ]
  },
  {
   "cell_type": "code",
   "execution_count": null,
   "id": "c31c095a",
   "metadata": {},
   "outputs": [],
   "source": []
  }
 ],
 "metadata": {
  "kernelspec": {
   "display_name": "Python 3",
   "language": "python",
   "name": "python3"
  },
  "language_info": {
   "codemirror_mode": {
    "name": "ipython",
    "version": 3
   },
   "file_extension": ".py",
   "mimetype": "text/x-python",
   "name": "python",
   "nbconvert_exporter": "python",
   "pygments_lexer": "ipython3",
   "version": "3.8.10"
  }
 },
 "nbformat": 4,
 "nbformat_minor": 5
}
