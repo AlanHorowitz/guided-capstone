{
 "cells": [
  {
   "cell_type": "code",
   "execution_count": 2,
   "id": "c4480bf2",
   "metadata": {},
   "outputs": [],
   "source": [
    "from pyspark.sql import SparkSession\n",
    "from pyspark.sql.functions import lit\n",
    "from pyspark.sql.types import DecimalType\n",
    "from datetime import date\n",
    "import os"
   ]
  },
  {
   "cell_type": "code",
   "execution_count": 3,
   "id": "fb1be9d0",
   "metadata": {},
   "outputs": [],
   "source": [
    "spark = SparkSession.builder.master('local').appName('guided-capstone').getOrCreate()\n",
    "spark.conf.set(\"spark.sql.shuffle.partitions\", 4)  # avoid unneeded shuffling\n",
    "\n",
    "INPUT_DIRECTORY = \"output_dir\"\n",
    "file_input = 'file://' + os.getcwd() + '/' + INPUT_DIRECTORY \n",
    "\n",
    "trade_common_df = spark.read.parquet(file_input)\n",
    "\n",
    "# create trades table\n",
    "trade_common_df.where(trade_common_df.partition == 'T')\\\n",
    "    .createOrReplaceTempView(\"trades\")\n",
    "\n",
    "# create quotes_extended with null moving average column  \n",
    "\n",
    "trade_common_df.where(trade_common_df.partition == 'Q')\\\n",
    "    .withColumn('mov_avg_trade_pr', lit(None).cast(DecimalType(10, 2)))\\\n",
    "    .createOrReplaceTempView(\"quotes_extended\")"
   ]
  },
  {
   "cell_type": "code",
   "execution_count": 3,
   "id": "e5bab842",
   "metadata": {},
   "outputs": [],
   "source": [
    "# extend with 30 day moving average column\n",
    "\n",
    "spark.sql(\n",
    "\"\"\"\n",
    "SELECT *, \n",
    "   mean(trade_pr) OVER  \n",
    "   (\n",
    "       PARTITION BY symbol, exchange ORDER BY event_tm\n",
    "       RANGE BETWEEN INTERVAL 30 MINUTES PRECEDING AND CURRENT ROW\n",
    "   ) AS mov_avg_trade_pr \n",
    "FROM trades;\n",
    "\"\"\"\n",
    ").createOrReplaceTempView(\"trades_extended\")"
   ]
  },
  {
   "cell_type": "code",
   "execution_count": 4,
   "id": "07644ca8",
   "metadata": {},
   "outputs": [],
   "source": [
    "# combine two extended tables\n",
    "\n",
    "spark.sql(\n",
    "\"\"\"\n",
    "SELECT * FROM trades_extended\n",
    "UNION\n",
    "SELECT * from quotes_extended\n",
    "\"\"\"\n",
    ").createOrReplaceTempView(\"quotes_trades_extended\")"
   ]
  },
  {
   "cell_type": "code",
   "execution_count": 5,
   "id": "7610bad8",
   "metadata": {},
   "outputs": [],
   "source": [
    "# use ignoreNulls option of last function to populate prior trade price and moving average \n",
    "\n",
    "spark.sql(\n",
    "\"\"\"\n",
    "SELECT *,\n",
    "    last(trade_pr, True) OVER \n",
    "        (PARTITION BY symbol, exchange ORDER  BY event_tm) AS prior_trade_pr,\n",
    "    last(mov_avg_trade_pr, True) OVER\n",
    "        (PARTITION BY symbol, exchange ORDER BY event_tm) AS prior_mov_avg_trade_pr\n",
    "FROM quotes_trades_extended;\n",
    "\"\"\"\n",
    ").createOrReplaceTempView(\"quotes_trades_extended\")"
   ]
  },
  {
   "cell_type": "code",
   "execution_count": 6,
   "id": "320a1115",
   "metadata": {},
   "outputs": [],
   "source": [
    "# Compute closing trade price from prior day\n",
    "\n",
    "spark.sql(\n",
    "\"\"\"\n",
    "SELECT trade_dt,\n",
    "       symbol, \n",
    "       exchange,\n",
    "       lag(close_trade_pr, 1) OVER \n",
    "           (PARTITION BY symbol, exchange ORDER BY trade_dt) AS prior_close_trade_pr\n",
    "FROM \n",
    "(\n",
    "    SELECT trade_dt,\n",
    "           symbol,\n",
    "           exchange,           \n",
    "           first(trade_pr) OVER \n",
    "               (PARTITION BY symbol, exchange, trade_dt ORDER BY event_tm DESC) \n",
    "               AS close_trade_pr,\n",
    "           row_number() OVER\n",
    "               (PARTITION BY symbol, exchange, trade_dt ORDER BY event_tm DESC) AS row\n",
    "    from trades\n",
    ") a\n",
    "WHERE row = 1;\n",
    "\"\"\"\n",
    ").createOrReplaceTempView(\"prior_day_close\")"
   ]
  },
  {
   "cell_type": "code",
   "execution_count": 8,
   "id": "97ab943f",
   "metadata": {},
   "outputs": [],
   "source": [
    "# add prior close price, filter out trades, format and write output\n",
    "\n",
    "spark.sql(\n",
    "\"\"\"\n",
    "SELECT /*+ BROADCAST(b) */ a.trade_dt,\n",
    "       a.symbol, \n",
    "       a.exchange, \n",
    "       a.event_tm, \n",
    "       a.prior_trade_pr, \n",
    "       cast(a.prior_mov_avg_trade_pr as decimal(2)),\n",
    "       b.prior_close_trade_pr \n",
    "FROM quotes_trades_extended a\n",
    "JOIN prior_day_close b \n",
    "WHERE\n",
    "    a.trade_dt = b.trade_dt AND\n",
    "    a.symbol = b.symbol AND\n",
    "    a.exchange = b.exchange AND\n",
    "    rec_type = 'Q'\n",
    "ORDER BY symbol, exchange, event_tm;\n",
    "\"\"\"\n",
    ").write.partitionBy('trade_dt').mode('overwrite').parquet('test_output_dir')"
   ]
  },
  {
   "cell_type": "code",
   "execution_count": null,
   "id": "d79dbffd",
   "metadata": {},
   "outputs": [],
   "source": [
    "final_df = spark.sql(\n",
    "\"\"\"\n",
    "SELECT /*+ BROADCAST(b) */ \n",
    "       a.symbol, \n",
    "       a.exchange, \n",
    "       a.event_tm, \n",
    "       a.prior_trade_pr, \n",
    "       cast(a.prior_mov_avg_trade_pr as decimal(10,2)),\n",
    "       b.prior_close_trade_pr \n",
    "FROM quotes_trades_extended a\n",
    "JOIN prior_day_close b \n",
    "WHERE\n",
    "    a.trade_dt = b.trade_dt AND\n",
    "    a.symbol = b.symbol AND\n",
    "    a.exchange = b.exchange AND\n",
    "    rec_type = 'Q'\n",
    "ORDER BY symbol, exchange, event_tm;\n",
    "\"\"\"\n",
    ")"
   ]
  },
  {
   "cell_type": "code",
   "execution_count": null,
   "id": "a576e4ec",
   "metadata": {},
   "outputs": [],
   "source": [
    "final_df.show(500, False)"
   ]
  },
  {
   "cell_type": "code",
   "execution_count": 15,
   "id": "49435a39",
   "metadata": {},
   "outputs": [],
   "source": [
    "spark.conf.set(\"spark.sql.shuffle.partitions\", 4)  # avoid unneeded shuffling\n",
    "\n",
    "cloud_storage_path = \"wasbs://data@guidedcapstonesa.blob.core.windows.net/\"\n",
    "# trade_common_df = spark.read.parquet(f\"{cloud_storage_path}/trade\")\n"
   ]
  },
  {
   "cell_type": "code",
   "execution_count": 16,
   "id": "ba3ae383",
   "metadata": {},
   "outputs": [],
   "source": [
    "sc = spark.sparkContext"
   ]
  },
  {
   "cell_type": "code",
   "execution_count": 17,
   "id": "a262926d",
   "metadata": {},
   "outputs": [],
   "source": [
    "rdd = sc.textFile(cloud_storage_path + '/' + 'part-00000-092ec1db-39ab-4079-9580-f7c7b516a283-c000.txt')\n",
    "rdd2 = sc.wholeTextFiles(cloud_storage_path\n",
    "                        )"
   ]
  },
  {
   "cell_type": "code",
   "execution_count": 36,
   "id": "a2af65be",
   "metadata": {},
   "outputs": [
    {
     "data": {
      "text/plain": [
       "tuple"
      ]
     },
     "execution_count": 36,
     "metadata": {},
     "output_type": "execute_result"
    }
   ],
   "source": [
    "m = rdd2.take(2)\n",
    "type(m[0])"
   ]
  },
  {
   "cell_type": "code",
   "execution_count": 22,
   "id": "55b5cc95",
   "metadata": {},
   "outputs": [
    {
     "data": {
      "text/plain": [
       "34241"
      ]
     },
     "execution_count": 22,
     "metadata": {},
     "output_type": "execute_result"
    }
   ],
   "source": [
    "len(m[0][1])"
   ]
  },
  {
   "cell_type": "code",
   "execution_count": 24,
   "id": "7d185d2d",
   "metadata": {},
   "outputs": [
    {
     "data": {
      "text/plain": [
       "'wasbs://data@guidedcapstonesa.blob.core.windows.net/part-00000-214fff0a-f408-466c-bb15-095cd8b648dc-c000.txt'"
      ]
     },
     "execution_count": 24,
     "metadata": {},
     "output_type": "execute_result"
    }
   ],
   "source": [
    "m[0][0]"
   ]
  },
  {
   "cell_type": "code",
   "execution_count": 29,
   "id": "4971fe48",
   "metadata": {},
   "outputs": [],
   "source": [
    "out = rdd2.collect()"
   ]
  },
  {
   "cell_type": "code",
   "execution_count": 30,
   "id": "6cee9c82",
   "metadata": {},
   "outputs": [
    {
     "data": {
      "text/plain": [
       "list"
      ]
     },
     "execution_count": 30,
     "metadata": {},
     "output_type": "execute_result"
    }
   ],
   "source": [
    "type(out)"
   ]
  },
  {
   "cell_type": "code",
   "execution_count": 33,
   "id": "c605e2e7",
   "metadata": {},
   "outputs": [
    {
     "data": {
      "text/plain": [
       "str"
      ]
     },
     "execution_count": 33,
     "metadata": {},
     "output_type": "execute_result"
    }
   ],
   "source": [
    "type(out[0][1])"
   ]
  },
  {
   "cell_type": "code",
   "execution_count": null,
   "id": "73adc9ff",
   "metadata": {},
   "outputs": [],
   "source": []
  }
 ],
 "metadata": {
  "kernelspec": {
   "display_name": "Python 3",
   "language": "python",
   "name": "python3"
  },
  "language_info": {
   "codemirror_mode": {
    "name": "ipython",
    "version": 3
   },
   "file_extension": ".py",
   "mimetype": "text/x-python",
   "name": "python",
   "nbconvert_exporter": "python",
   "pygments_lexer": "ipython3",
   "version": "3.8.10"
  }
 },
 "nbformat": 4,
 "nbformat_minor": 5
}
